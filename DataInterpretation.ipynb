{
 "cells": [
  {
   "cell_type": "code",
   "execution_count": null,
   "metadata": {},
   "outputs": [],
   "source": [
    "#debug pandas not importing\n",
    "import sys\n",
    "print(sys.executable)\n",
    "#taking the information from the line above -- directly import pandas module in here -- this is some wizardry\n",
    "! /Users/Amy/anaconda3/python.exe -m pip install pandas"
   ]
  },
  {
   "cell_type": "markdown",
   "metadata": {},
   "source": [
    "Step 1 - import data into juypter notebook"
   ]
  },
  {
   "cell_type": "code",
   "execution_count": 1,
   "metadata": {},
   "outputs": [],
   "source": [
    "import pandas as pd\n",
    "import numpy as np\n",
    "import matplotlib.pyplot as plt"
   ]
  },
  {
   "cell_type": "markdown",
   "metadata": {},
   "source": [
    "Step 2 - Use matplotlib to make a barplot of the data and check for outliers"
   ]
  },
  {
   "cell_type": "code",
   "execution_count": 3,
   "metadata": {},
   "outputs": [
    {
     "data": {
      "text/plain": [
       "(289, 16232)"
      ]
     },
     "execution_count": 3,
     "metadata": {},
     "output_type": "execute_result"
    }
   ],
   "source": [
    "#import the data\n",
    "df = pd.read_csv(\"DESEQ2NormalizedData.csv\", index_col=0)\n",
    "df.head()\n",
    "\n",
    "df.shape #returns dimensions of the data"
   ]
  },
  {
   "cell_type": "code",
   "execution_count": 6,
   "metadata": {},
   "outputs": [
    {
     "data": {
      "text/plain": [
       "(16232, 289)"
      ]
     },
     "execution_count": 6,
     "metadata": {},
     "output_type": "execute_result"
    }
   ],
   "source": [
    "#swaps the x and y values\n",
    "data = df.transpose()\n",
    "data.shape"
   ]
  },
  {
   "cell_type": "code",
   "execution_count": null,
   "metadata": {},
   "outputs": [],
   "source": [
    "#print(plt.style.available) list of available displays\n",
    "\n",
    "plt.style.use('fast')\n",
    "fig = plt.figure()\n",
    "ax = fig.add_axes([0.1, 0.1, 0.8, 0.8])\n",
    "\n",
    "fig.set_size_inches(50, 10.5)\n",
    "\n",
    "plt.boxplot(data)\n",
    "plt.xticks(rotation = 90)\n",
    "\n",
    "plt.xlabel(\"Samples\", size = 32)\n",
    "plt.ylabel(\"Expression\", size = 32)\n",
    "plt.title(\"Normalization Barplot\", size = 38)\n",
    "\n",
    "x_ticks = list(df.index)\n",
    "ax.set_xticklabels(x_ticks)\n",
    "\n",
    "plt.show()"
   ]
  },
  {
   "cell_type": "markdown",
   "metadata": {},
   "source": [
    "Step 3 - remove outliers; none exist\n",
    "Step 4 - find library to convert gene ids into gene symbols - perhaps an R package or online resource?\n",
    "\n",
    "Possible resource - https://www.researchgate.net/post/How-to-map-probe-ID-with-gene-symbol-in-GEO-dataset\n",
    "Dataset - https://www.ncbi.nlm.nih.gov/geo/query/acc.cgi?acc=GSE125583\n",
    "Official gene symbols (I think) - https://www.genenames.org/tools/search/"
   ]
  },
  {
   "cell_type": "markdown",
   "metadata": {},
   "source": [
    "Steps for 4: \n",
    "\n",
    "Utilize API provided by NCBI to scrape gene information from data\n",
    "\n",
    "Source: https://www.ncbi.nlm.nih.gov/home/develop/api/\n",
    "\n",
    "Entrez appears to be the most promising since it offers databases for genes which is the one we're targeting.\n",
    "\n",
    "Sample of what we want to achieve: https://eutils.ncbi.nlm.nih.gov/entrez/eutils/esummary.fcgi?db=gene&id=100093631\n",
    "^From that, if I get the <Name> section of the gene and combine them together, then it's all set\n",
    "\n",
    "Always returns xml file. \n",
    "\n",
    "Template: https://eutils.ncbi.nlm.nih.gov/entrez/eutils/esummary.fcgi?db=gene&id=[insert custom id parsed from data here]"
   ]
  },
  {
   "cell_type": "code",
   "execution_count": null,
   "metadata": {},
   "outputs": [],
   "source": [
    "# \"test\" function to grab gene information\n",
    "\n",
    "#need to write a script that automatically runs through the urls for me\n",
    "import requests as r\n",
    "\n",
    "# genes = \"100093631\"\n",
    "#response = r.get(f\"https://eutils.ncbi.nlm.nih.gov/entrez/eutils/esummary.fcgi?db=gene&id={genes}\") #created a template literal with variable that functions as the value\n",
    "#print(response)\n",
    "\n",
    "query = {'db': 'gene', 'id': '100093631,1,2,3,4,5,6,7,8,9'}\n",
    "response = r.get('https://eutils.ncbi.nlm.nih.gov/entrez/eutils/esummary.fcgi?', params=query)\n",
    "\n",
    "#parse the xml file\n",
    "import xml.etree.ElementTree as ET\n",
    "root = ET.fromstring(response.content)\n",
    "print(root[0][1][0].text) # <- this gives me the first one... woot!\n",
    "print(root[0][2][0].text) # <- this is the next one!\n",
    "print(root[0][3][0].text) # <- this gives the third one!\n",
    "print(root[0][4][0].text) # <- this gives the fourth one!\n",
    "print(root[0][5][0].text) # <- this gives the fifth one!\n",
    "print(root[0][6][0].text) # <- this gives the sixth one!\n",
    "print(root[0][7][0].text) # <- this gives the seventh one!\n",
    "print(root[0][8][0].text) # <- this gives the eighth one!\n",
    "print(root[0][9][0].text) # <- this gives the ninth (nineth) one!\n",
    "print(root[0][10][0].text) # <- this gives the tenth one!"
   ]
  },
  {
   "cell_type": "markdown",
   "metadata": {},
   "source": [
    "References: \n",
    "- Downloading Document Summaries: https://www.ncbi.nlm.nih.gov/books/NBK25500/#chapter1.Downloading_Document_Summaries\n",
    "- API Requests tutorial: https://www.nylas.com/blog/use-python-requests-module-rest-apis/\n",
    "- Using ElementTree: https://www.edureka.co/blog/python-xml-parser-tutorial/#findingelements"
   ]
  },
  {
   "cell_type": "code",
   "execution_count": null,
   "metadata": {},
   "outputs": [],
   "source": [
    "# grab gene ids from csv file and pasted it into ids.txt\n",
    "# Goal is to eventually create a dictionary that links the gene id with the gene symbol\n",
    "\n",
    "import time  # will be useful when trying to puase the program for a while\n",
    "import csv\n",
    "file = open('DESeq2NormalizedData.csv')\n",
    "csvreader = csv.reader(file)\n",
    "header = []\n",
    "header = next(csvreader) \n",
    "# header contains all of the items in the first row\n",
    "# remove the first one since that's just a ''\n",
    "header = header[1:]\n",
    "\n",
    "# write into the file and then drag it onto the other row later on\n",
    "with open('key.csv', 'w', newline=\"\") as file:\n",
    "    csvwriter = csv.writer(file)  # create csvwriter object\n",
    "    csvwriter.writerow(header)  # write the header (aka the gene ids)\n",
    "\n",
    "    # have to get the data before I write it\n",
    "    data = []\n",
    "    tempIDHolder = []\n",
    "    # create a dictionary that links the gene id with the gene symbol\n",
    "    for id in header:\n",
    "        tempIDHolder.append(id)\n",
    "        if (len(tempIDHolder) >= 10):\n",
    "        # request a downloadable summary, etc.\n",
    "            # first convert the tempIDHolder into actual id value\n",
    "            id = tempIDHolder[0]\n",
    "            counter = 0\n",
    "            for item in tempIDHolder:\n",
    "                if counter == 0:\n",
    "                    counter += 1\n",
    "                else :\n",
    "                    id = id + ',' + item # hopefully this gets everything?\n",
    "            # print(id)\n",
    "            query = {'db': 'gene', 'id': id}\n",
    "            response = r.get(\n",
    "                'https://eutils.ncbi.nlm.nih.gov/entrez/eutils/esummary.fcgi?', params=query)\n",
    "            root = ET.fromstring(response.content)\n",
    "            data.append(root[0][1][0].text)\n",
    "            data.append(root[0][2][0].text)\n",
    "            data.append(root[0][3][0].text)\n",
    "            data.append(root[0][4][0].text)\n",
    "            data.append(root[0][5][0].text)\n",
    "            data.append(root[0][6][0].text)\n",
    "            data.append(root[0][7][0].text)\n",
    "            data.append(root[0][8][0].text)\n",
    "            data.append(root[0][9][0].text)\n",
    "            data.append(root[0][10][0].text)\n",
    "            # make it pause or else the API will yell at me (it was like 3 requests per second if I remember correctly)\n",
    "            # make it sleep for half a second... therefore it should be like 2 requests per second\n",
    "            # print(root[0][1][0].text)\n",
    "            time.sleep(.5)\n",
    "            # reset tempIDHolder\n",
    "            tempIDHolder.clear()\n",
    "\n",
    "    csvwriter.writerow(data)"
   ]
  },
  {
   "cell_type": "code",
   "execution_count": null,
   "metadata": {},
   "outputs": [],
   "source": [
    "#find the gene ids that I am still missing (since I did it by factors of 10) and manually modify the key.csv\n",
    "print(len(header))\n",
    "# result: 16232, so that means I only have to get two, phew!"
   ]
  },
  {
   "cell_type": "code",
   "execution_count": null,
   "metadata": {},
   "outputs": [],
   "source": [
    "# double checking my computer's capability to handle large array sizes - source: https://stackoverflow.com/questions/855191/how-big-can-a-python-list-get#:~:text=According%20to%20the%20source%20code,PY_SSIZE_T_MAX%2Fsizeof(PyObject*)%20.&text=On%20a%20regular%2032bit%20system,bit%20system%20is%20536%2C870%2C912%20elements.\n",
    "import six\n",
    "print(six.MAXSIZE)\n",
    "# result: 9223372036854775807, so yeah it should be fine"
   ]
  },
  {
   "cell_type": "markdown",
   "metadata": {},
   "source": [
    "Resources:\n",
    "- Manipulating csv file to get just the header: https://www.analyticsvidhya.com/blog/2021/08/python-tutorial-working-with-csv-file-for-data-science/\n",
    "- How to manipulate python dictionaries: https://www.geeksforgeeks.org/python-dictionary/"
   ]
  },
  {
   "cell_type": "markdown",
   "metadata": {},
   "source": [
    "Replace DF ids with Gene Symbols"
   ]
  },
  {
   "cell_type": "code",
   "execution_count": 7,
   "metadata": {},
   "outputs": [
    {
     "data": {
      "text/html": [
       "<div>\n",
       "<style scoped>\n",
       "    .dataframe tbody tr th:only-of-type {\n",
       "        vertical-align: middle;\n",
       "    }\n",
       "\n",
       "    .dataframe tbody tr th {\n",
       "        vertical-align: top;\n",
       "    }\n",
       "\n",
       "    .dataframe thead th {\n",
       "        text-align: right;\n",
       "    }\n",
       "</style>\n",
       "<table border=\"1\" class=\"dataframe\">\n",
       "  <thead>\n",
       "    <tr style=\"text-align: right;\">\n",
       "      <th></th>\n",
       "      <th>1</th>\n",
       "      <th>100</th>\n",
       "      <th>1000</th>\n",
       "      <th>10000</th>\n",
       "      <th>100009676</th>\n",
       "      <th>10001</th>\n",
       "      <th>10003</th>\n",
       "      <th>100037417</th>\n",
       "      <th>10004</th>\n",
       "      <th>100049716</th>\n",
       "      <th>...</th>\n",
       "      <th>9987</th>\n",
       "      <th>9988</th>\n",
       "      <th>9989</th>\n",
       "      <th>999</th>\n",
       "      <th>9990</th>\n",
       "      <th>9991</th>\n",
       "      <th>9992</th>\n",
       "      <th>9993</th>\n",
       "      <th>9994</th>\n",
       "      <th>9997</th>\n",
       "    </tr>\n",
       "  </thead>\n",
       "  <tbody>\n",
       "    <tr>\n",
       "      <th>0</th>\n",
       "      <td>A1BG</td>\n",
       "      <td>ADA</td>\n",
       "      <td>CDH2</td>\n",
       "      <td>AKT3</td>\n",
       "      <td>ZBTB11-AS1</td>\n",
       "      <td>MED6</td>\n",
       "      <td>NAALAD2</td>\n",
       "      <td>DDTL</td>\n",
       "      <td>NAALADL1</td>\n",
       "      <td>NINJ2-AS1</td>\n",
       "      <td>...</td>\n",
       "      <td>HNRNPDL</td>\n",
       "      <td>DMTF1</td>\n",
       "      <td>PPP4R1</td>\n",
       "      <td>CDH1</td>\n",
       "      <td>SLC12A6</td>\n",
       "      <td>PTBP3</td>\n",
       "      <td>KCNE2</td>\n",
       "      <td>DGCR2</td>\n",
       "      <td>CASP8AP2</td>\n",
       "      <td>SCO2</td>\n",
       "    </tr>\n",
       "  </tbody>\n",
       "</table>\n",
       "<p>1 rows × 16232 columns</p>\n",
       "</div>"
      ],
      "text/plain": [
       "      1  100  1000 10000   100009676 10001    10003 100037417     10004  \\\n",
       "0  A1BG  ADA  CDH2  AKT3  ZBTB11-AS1  MED6  NAALAD2      DDTL  NAALADL1   \n",
       "\n",
       "   100049716  ...     9987   9988    9989   999     9990   9991   9992   9993  \\\n",
       "0  NINJ2-AS1  ...  HNRNPDL  DMTF1  PPP4R1  CDH1  SLC12A6  PTBP3  KCNE2  DGCR2   \n",
       "\n",
       "       9994  9997  \n",
       "0  CASP8AP2  SCO2  \n",
       "\n",
       "[1 rows x 16232 columns]"
      ]
     },
     "execution_count": 7,
     "metadata": {},
     "output_type": "execute_result"
    }
   ],
   "source": [
    "# import conversion library\n",
    "translate = pd.read_csv(\"key.csv\")\n",
    "translate.head()"
   ]
  },
  {
   "cell_type": "code",
   "execution_count": 8,
   "metadata": {},
   "outputs": [
    {
     "data": {
      "text/html": [
       "<div>\n",
       "<style scoped>\n",
       "    .dataframe tbody tr th:only-of-type {\n",
       "        vertical-align: middle;\n",
       "    }\n",
       "\n",
       "    .dataframe tbody tr th {\n",
       "        vertical-align: top;\n",
       "    }\n",
       "\n",
       "    .dataframe thead th {\n",
       "        text-align: right;\n",
       "    }\n",
       "</style>\n",
       "<table border=\"1\" class=\"dataframe\">\n",
       "  <thead>\n",
       "    <tr style=\"text-align: right;\">\n",
       "      <th></th>\n",
       "      <th>A1BG</th>\n",
       "      <th>ADA</th>\n",
       "      <th>CDH2</th>\n",
       "      <th>AKT3</th>\n",
       "      <th>ZBTB11-AS1</th>\n",
       "      <th>MED6</th>\n",
       "      <th>NAALAD2</th>\n",
       "      <th>DDTL</th>\n",
       "      <th>NAALADL1</th>\n",
       "      <th>NINJ2-AS1</th>\n",
       "      <th>...</th>\n",
       "      <th>HNRNPDL</th>\n",
       "      <th>DMTF1</th>\n",
       "      <th>PPP4R1</th>\n",
       "      <th>CDH1</th>\n",
       "      <th>SLC12A6</th>\n",
       "      <th>PTBP3</th>\n",
       "      <th>KCNE2</th>\n",
       "      <th>DGCR2</th>\n",
       "      <th>CASP8AP2</th>\n",
       "      <th>SCO2</th>\n",
       "    </tr>\n",
       "  </thead>\n",
       "  <tbody>\n",
       "    <tr>\n",
       "      <th>GSM3577568</th>\n",
       "      <td>8.103918</td>\n",
       "      <td>7.937909</td>\n",
       "      <td>10.257489</td>\n",
       "      <td>11.186453</td>\n",
       "      <td>5.995394</td>\n",
       "      <td>7.667819</td>\n",
       "      <td>9.199965</td>\n",
       "      <td>10.280796</td>\n",
       "      <td>6.549983</td>\n",
       "      <td>6.243322</td>\n",
       "      <td>...</td>\n",
       "      <td>11.221806</td>\n",
       "      <td>10.175303</td>\n",
       "      <td>10.056090</td>\n",
       "      <td>5.454826</td>\n",
       "      <td>9.981236</td>\n",
       "      <td>8.396273</td>\n",
       "      <td>5.518956</td>\n",
       "      <td>11.268024</td>\n",
       "      <td>6.487247</td>\n",
       "      <td>9.417459</td>\n",
       "    </tr>\n",
       "    <tr>\n",
       "      <th>GSM3577569</th>\n",
       "      <td>7.009610</td>\n",
       "      <td>7.902695</td>\n",
       "      <td>10.120491</td>\n",
       "      <td>10.939458</td>\n",
       "      <td>6.258109</td>\n",
       "      <td>7.682248</td>\n",
       "      <td>7.454174</td>\n",
       "      <td>8.647815</td>\n",
       "      <td>6.885065</td>\n",
       "      <td>6.598184</td>\n",
       "      <td>...</td>\n",
       "      <td>12.246937</td>\n",
       "      <td>11.343959</td>\n",
       "      <td>10.626753</td>\n",
       "      <td>7.470028</td>\n",
       "      <td>10.016374</td>\n",
       "      <td>8.426003</td>\n",
       "      <td>3.276256</td>\n",
       "      <td>11.831612</td>\n",
       "      <td>8.417852</td>\n",
       "      <td>8.438144</td>\n",
       "    </tr>\n",
       "    <tr>\n",
       "      <th>GSM3577570</th>\n",
       "      <td>7.046131</td>\n",
       "      <td>7.680613</td>\n",
       "      <td>10.303429</td>\n",
       "      <td>11.387845</td>\n",
       "      <td>6.331885</td>\n",
       "      <td>7.715589</td>\n",
       "      <td>8.728490</td>\n",
       "      <td>8.635666</td>\n",
       "      <td>6.113245</td>\n",
       "      <td>6.541339</td>\n",
       "      <td>...</td>\n",
       "      <td>12.492072</td>\n",
       "      <td>11.431233</td>\n",
       "      <td>10.663922</td>\n",
       "      <td>8.280252</td>\n",
       "      <td>10.833722</td>\n",
       "      <td>8.928075</td>\n",
       "      <td>2.653813</td>\n",
       "      <td>11.588094</td>\n",
       "      <td>9.232752</td>\n",
       "      <td>8.337510</td>\n",
       "    </tr>\n",
       "    <tr>\n",
       "      <th>GSM3577571</th>\n",
       "      <td>7.486468</td>\n",
       "      <td>7.611999</td>\n",
       "      <td>10.277881</td>\n",
       "      <td>11.121012</td>\n",
       "      <td>5.280793</td>\n",
       "      <td>7.842296</td>\n",
       "      <td>8.047696</td>\n",
       "      <td>9.168947</td>\n",
       "      <td>6.455880</td>\n",
       "      <td>6.257334</td>\n",
       "      <td>...</td>\n",
       "      <td>11.654149</td>\n",
       "      <td>10.630377</td>\n",
       "      <td>10.269111</td>\n",
       "      <td>5.818450</td>\n",
       "      <td>9.913436</td>\n",
       "      <td>8.332221</td>\n",
       "      <td>4.326597</td>\n",
       "      <td>11.708139</td>\n",
       "      <td>7.896452</td>\n",
       "      <td>9.286598</td>\n",
       "    </tr>\n",
       "    <tr>\n",
       "      <th>GSM3577572</th>\n",
       "      <td>7.553102</td>\n",
       "      <td>8.112529</td>\n",
       "      <td>10.274801</td>\n",
       "      <td>11.085076</td>\n",
       "      <td>6.112529</td>\n",
       "      <td>7.578193</td>\n",
       "      <td>7.974453</td>\n",
       "      <td>8.771874</td>\n",
       "      <td>6.264532</td>\n",
       "      <td>7.089446</td>\n",
       "      <td>...</td>\n",
       "      <td>11.903434</td>\n",
       "      <td>10.865720</td>\n",
       "      <td>10.183736</td>\n",
       "      <td>5.993230</td>\n",
       "      <td>10.011766</td>\n",
       "      <td>8.448132</td>\n",
       "      <td>4.383177</td>\n",
       "      <td>11.705105</td>\n",
       "      <td>8.359251</td>\n",
       "      <td>9.140874</td>\n",
       "    </tr>\n",
       "  </tbody>\n",
       "</table>\n",
       "<p>5 rows × 16232 columns</p>\n",
       "</div>"
      ],
      "text/plain": [
       "                A1BG       ADA       CDH2       AKT3  ZBTB11-AS1      MED6  \\\n",
       "GSM3577568  8.103918  7.937909  10.257489  11.186453    5.995394  7.667819   \n",
       "GSM3577569  7.009610  7.902695  10.120491  10.939458    6.258109  7.682248   \n",
       "GSM3577570  7.046131  7.680613  10.303429  11.387845    6.331885  7.715589   \n",
       "GSM3577571  7.486468  7.611999  10.277881  11.121012    5.280793  7.842296   \n",
       "GSM3577572  7.553102  8.112529  10.274801  11.085076    6.112529  7.578193   \n",
       "\n",
       "             NAALAD2       DDTL  NAALADL1  NINJ2-AS1  ...    HNRNPDL  \\\n",
       "GSM3577568  9.199965  10.280796  6.549983   6.243322  ...  11.221806   \n",
       "GSM3577569  7.454174   8.647815  6.885065   6.598184  ...  12.246937   \n",
       "GSM3577570  8.728490   8.635666  6.113245   6.541339  ...  12.492072   \n",
       "GSM3577571  8.047696   9.168947  6.455880   6.257334  ...  11.654149   \n",
       "GSM3577572  7.974453   8.771874  6.264532   7.089446  ...  11.903434   \n",
       "\n",
       "                DMTF1     PPP4R1      CDH1    SLC12A6     PTBP3     KCNE2  \\\n",
       "GSM3577568  10.175303  10.056090  5.454826   9.981236  8.396273  5.518956   \n",
       "GSM3577569  11.343959  10.626753  7.470028  10.016374  8.426003  3.276256   \n",
       "GSM3577570  11.431233  10.663922  8.280252  10.833722  8.928075  2.653813   \n",
       "GSM3577571  10.630377  10.269111  5.818450   9.913436  8.332221  4.326597   \n",
       "GSM3577572  10.865720  10.183736  5.993230  10.011766  8.448132  4.383177   \n",
       "\n",
       "                DGCR2  CASP8AP2      SCO2  \n",
       "GSM3577568  11.268024  6.487247  9.417459  \n",
       "GSM3577569  11.831612  8.417852  8.438144  \n",
       "GSM3577570  11.588094  9.232752  8.337510  \n",
       "GSM3577571  11.708139  7.896452  9.286598  \n",
       "GSM3577572  11.705105  8.359251  9.140874  \n",
       "\n",
       "[5 rows x 16232 columns]"
      ]
     },
     "execution_count": 8,
     "metadata": {},
     "output_type": "execute_result"
    }
   ],
   "source": [
    "colNames = list(translate.iloc[0, :])\n",
    "\n",
    "DataTot = df.set_axis(colNames, axis=1, inplace=False)\n",
    "DataTot.head()"
   ]
  },
  {
   "cell_type": "markdown",
   "metadata": {},
   "source": [
    "Select genes to focus on\n",
    "\n",
    "Genes extracted from DE here: https://www.ncbi.nlm.nih.gov/geo/query/acc.cgi?acc=GSE132651"
   ]
  },
  {
   "cell_type": "code",
   "execution_count": 13,
   "metadata": {},
   "outputs": [
    {
     "data": {
      "text/plain": [
       "200"
      ]
     },
     "execution_count": 13,
     "metadata": {},
     "output_type": "execute_result"
    }
   ],
   "source": [
    "# I used a Google script and ripped off an array and just copy pasted it here. Is it clean? Haha no\n",
    "gene_list = [\"MMP1\", \"TFPI2\", \"ANGPT2\", \"SULF1\", \"SULF1\", \"FABP4\", \"ANGPT2\", \"IL1RL1\", \"TFPI2\", \"ADGRF5\", \"FST\", \"VAMP8\", \"SULF1\", \"MRC1\", \"TOX\", \"BASP1\", \"EMCN\", \"LYVE1\", \"COL4A5\", \"MMP10\", \"ANKRD1\", \"TACSTD2\", \"GULP1\", \"RASGRP3\", \"LEPROT///LEPR\", \"GULP1\", \"NUPR1\", \"PBK\", \"SULT1E1\", \"ADGRF5\", \"PROS1\", \"EPB41L3\", \"ALDH1A1\", \"PFN2\", \"FABP5\", \"TSPAN13\", \"FGF13\", \"LIMCH1\", \"GMFG\", \"IL1R1\", \"PDE2A\", \"SRSF6\", \"TGFB2\", \"LYN\", \"CLU\", \"LBH\", \"MIR6787///SLC16A3\", \"EPB41L3\", \"CHST15\", \"ANOS1\", \"TIMP3\", \"RRM2\", \"RGCC\", \"MIR6787///SLC16A3\", \"EPB41L3\", \"FST\", \"HSD17B2\", \"GULP1\", \"THSD7A\", \"SLC6A15\", \"LTBP1\", \"COL13A1\", \"LIMCH1\", \"KRT7\", \"ANXA3\", \"MAD2L1\", \"LAMP3\", \"DYSF\", \"SLC35F6///CENPA\", \"CLEC2B\", \"LDB2\", \"LTBP1\", \"LYVE1\", \"DKK1\", \"RPS4Y1\", \"SLIT2\", \"DPYSL3\", \"FBLN5\", \"NRP2\", \"CXCR4\", \"C10orf10\", \"CLU\", \"NRG1\", \"CSGALNACT1\", \"HJURP\", \"ASPM\", \"PLA2G4C\", \"ADIRF\", \"TOP2A\", \"BST2\", \"CD44\", \"HLA-B\", \"LIMCH1\", \"TGFB2\", \"DLGAP5\", \"SULT1B1\", \"SACS\", \"COL3A1\", \"HMMR\", \"LOC101930400///AKR1C2\", \"TIMP3\", \"IFI27\", \"BMP4\", \"NID1\", \"UCHL1\", \"NDC1\", \"SHCBP1\", \"LYN\", \"EMP3\", \"CCND2\", \"CCL15-CCL14///CCL14\", \"CDC20\", \"MAFB\", \"GPX3\", \"AURKA\", \"PTTG1\", \"RFC3\", \"BCAT1\", \"RBP1\", \"MEIS2\", \"CCNB1\", \"SH3BP5\", \"VCAM1\", \"CKS1B\", \"PRC1\", \"JUP\", \"GJA4\", \"NCAPG\", \"LYPD1\", \"BCHE\", \"TMEM140\", \"IGFBP2\", \"CCND2\", \"HOXA10-HOXA9///MIR196B///HOXA9\", \"AKR1C1\", \"TNFSF10\", \"PODXL\", \"IL13RA2\", \"SPC25\", \"UBE2S\", \"GYPC\", \"NDC80\", \"ABCG1\", \"CEP55\", \"EIF1AY\", \"GATA6\", \"GPRC5A\", \"PDPN\", \"TNFSF10\", \"CD36\", \"RELN\", \"CCNA2\", \"CSF2RB\", \"ANPEP\", \"CDK1\", \"GJA4\", \"MT1M\", \"TRPV2\", \"RRM2\", \"CLU\", \"GPX3\", \"TGFBR2\", \"CCNA1\", \"SMC2\", \"UBD///GABBR1\", \"TGFB2\", \"ADD3\", \"FHL1\", \"KIAA0101\", \"MELK\", \"SQRDL\", \"PIEZO2\", \"RRP15\", \"DEPDC1\", \"XIST\", \"TPD52\", \"SOX18\", \"OIP5\", \"MFAP2\", \"MPZL2\", \"TMPO\", \"CCNA2\", \"TPX2\", \"TRIP13\", \"PCDH7\", \"PLPP3\", \"PCNA\", \"PTPRN2\", \"POSTN\", \"NRP2\", \"BACE2\", \"NPTX2\", \"DKK3\", \"PLOD2\", \"TGFBR2\", \"SPRY1\", \"HSPD1\", \"MT1X\", \"KIF20A\", \"CENPN\" ]\n",
    "\n",
    "len(gene_list)"
   ]
  },
  {
   "cell_type": "code",
   "execution_count": 14,
   "metadata": {},
   "outputs": [
    {
     "data": {
      "text/plain": [
       "120"
      ]
     },
     "execution_count": 14,
     "metadata": {},
     "output_type": "execute_result"
    }
   ],
   "source": [
    "# see which ones match\n",
    "colNames = list(DataTot.columns)\n",
    "\n",
    "geneOverlap = list(set(gene_list).intersection(colNames))\n",
    "len(geneOverlap)"
   ]
  },
  {
   "cell_type": "code",
   "execution_count": 15,
   "metadata": {},
   "outputs": [
    {
     "data": {
      "text/html": [
       "<div>\n",
       "<style scoped>\n",
       "    .dataframe tbody tr th:only-of-type {\n",
       "        vertical-align: middle;\n",
       "    }\n",
       "\n",
       "    .dataframe tbody tr th {\n",
       "        vertical-align: top;\n",
       "    }\n",
       "\n",
       "    .dataframe thead th {\n",
       "        text-align: right;\n",
       "    }\n",
       "</style>\n",
       "<table border=\"1\" class=\"dataframe\">\n",
       "  <thead>\n",
       "    <tr style=\"text-align: right;\">\n",
       "      <th></th>\n",
       "      <th>PCDH7</th>\n",
       "      <th>NUPR1</th>\n",
       "      <th>ANXA3</th>\n",
       "      <th>TMPO</th>\n",
       "      <th>LYPD1</th>\n",
       "      <th>NDC1</th>\n",
       "      <th>VAMP8</th>\n",
       "      <th>PLOD2</th>\n",
       "      <th>CCND2</th>\n",
       "      <th>SLIT2</th>\n",
       "      <th>...</th>\n",
       "      <th>ANOS1</th>\n",
       "      <th>PODXL</th>\n",
       "      <th>DYSF</th>\n",
       "      <th>HSPD1</th>\n",
       "      <th>LYVE1</th>\n",
       "      <th>DKK3</th>\n",
       "      <th>MRC1</th>\n",
       "      <th>TRIP13</th>\n",
       "      <th>GYPC</th>\n",
       "      <th>GULP1</th>\n",
       "    </tr>\n",
       "  </thead>\n",
       "  <tbody>\n",
       "    <tr>\n",
       "      <th>GSM3577568</th>\n",
       "      <td>9.134945</td>\n",
       "      <td>12.744425</td>\n",
       "      <td>7.503189</td>\n",
       "      <td>8.878037</td>\n",
       "      <td>11.566198</td>\n",
       "      <td>7.667819</td>\n",
       "      <td>8.809175</td>\n",
       "      <td>8.487247</td>\n",
       "      <td>10.489249</td>\n",
       "      <td>7.145141</td>\n",
       "      <td>...</td>\n",
       "      <td>7.471127</td>\n",
       "      <td>10.897769</td>\n",
       "      <td>10.116928</td>\n",
       "      <td>12.644201</td>\n",
       "      <td>10.810777</td>\n",
       "      <td>14.082691</td>\n",
       "      <td>8.463000</td>\n",
       "      <td>5.995394</td>\n",
       "      <td>9.233799</td>\n",
       "      <td>3.317322</td>\n",
       "    </tr>\n",
       "    <tr>\n",
       "      <th>GSM3577569</th>\n",
       "      <td>7.914330</td>\n",
       "      <td>10.917224</td>\n",
       "      <td>9.091319</td>\n",
       "      <td>9.316272</td>\n",
       "      <td>9.670290</td>\n",
       "      <td>7.787218</td>\n",
       "      <td>7.914330</td>\n",
       "      <td>8.497360</td>\n",
       "      <td>10.859715</td>\n",
       "      <td>8.908524</td>\n",
       "      <td>...</td>\n",
       "      <td>7.114199</td>\n",
       "      <td>12.708380</td>\n",
       "      <td>10.984995</td>\n",
       "      <td>9.852173</td>\n",
       "      <td>8.004177</td>\n",
       "      <td>13.280336</td>\n",
       "      <td>5.976696</td>\n",
       "      <td>5.239730</td>\n",
       "      <td>9.119235</td>\n",
       "      <td>5.787218</td>\n",
       "    </tr>\n",
       "    <tr>\n",
       "      <th>GSM3577570</th>\n",
       "      <td>8.946595</td>\n",
       "      <td>10.962152</td>\n",
       "      <td>9.086773</td>\n",
       "      <td>9.805591</td>\n",
       "      <td>9.063204</td>\n",
       "      <td>8.208402</td>\n",
       "      <td>7.847585</td>\n",
       "      <td>9.004310</td>\n",
       "      <td>10.301991</td>\n",
       "      <td>9.250748</td>\n",
       "      <td>...</td>\n",
       "      <td>6.961242</td>\n",
       "      <td>11.530330</td>\n",
       "      <td>11.970774</td>\n",
       "      <td>10.018386</td>\n",
       "      <td>8.843638</td>\n",
       "      <td>12.592805</td>\n",
       "      <td>8.671735</td>\n",
       "      <td>4.855447</td>\n",
       "      <td>9.018386</td>\n",
       "      <td>5.286081</td>\n",
       "    </tr>\n",
       "    <tr>\n",
       "      <th>GSM3577571</th>\n",
       "      <td>8.911559</td>\n",
       "      <td>10.787052</td>\n",
       "      <td>8.354503</td>\n",
       "      <td>8.777808</td>\n",
       "      <td>9.974055</td>\n",
       "      <td>7.516421</td>\n",
       "      <td>9.074789</td>\n",
       "      <td>8.424629</td>\n",
       "      <td>11.137971</td>\n",
       "      <td>8.435121</td>\n",
       "      <td>...</td>\n",
       "      <td>6.984808</td>\n",
       "      <td>11.559617</td>\n",
       "      <td>10.037403</td>\n",
       "      <td>10.376445</td>\n",
       "      <td>9.752861</td>\n",
       "      <td>13.763698</td>\n",
       "      <td>5.911559</td>\n",
       "      <td>5.370991</td>\n",
       "      <td>8.802330</td>\n",
       "      <td>4.574524</td>\n",
       "    </tr>\n",
       "    <tr>\n",
       "      <th>GSM3577572</th>\n",
       "      <td>8.929665</td>\n",
       "      <td>10.688879</td>\n",
       "      <td>8.939380</td>\n",
       "      <td>9.074829</td>\n",
       "      <td>10.601836</td>\n",
       "      <td>7.364068</td>\n",
       "      <td>7.955428</td>\n",
       "      <td>8.544640</td>\n",
       "      <td>10.460555</td>\n",
       "      <td>8.123934</td>\n",
       "      <td>...</td>\n",
       "      <td>7.689838</td>\n",
       "      <td>12.243774</td>\n",
       "      <td>11.127480</td>\n",
       "      <td>10.786301</td>\n",
       "      <td>8.610983</td>\n",
       "      <td>13.643539</td>\n",
       "      <td>7.619065</td>\n",
       "      <td>4.835689</td>\n",
       "      <td>8.429870</td>\n",
       "      <td>5.042140</td>\n",
       "    </tr>\n",
       "  </tbody>\n",
       "</table>\n",
       "<p>5 rows × 100 columns</p>\n",
       "</div>"
      ],
      "text/plain": [
       "               PCDH7      NUPR1     ANXA3      TMPO      LYPD1      NDC1  \\\n",
       "GSM3577568  9.134945  12.744425  7.503189  8.878037  11.566198  7.667819   \n",
       "GSM3577569  7.914330  10.917224  9.091319  9.316272   9.670290  7.787218   \n",
       "GSM3577570  8.946595  10.962152  9.086773  9.805591   9.063204  8.208402   \n",
       "GSM3577571  8.911559  10.787052  8.354503  8.777808   9.974055  7.516421   \n",
       "GSM3577572  8.929665  10.688879  8.939380  9.074829  10.601836  7.364068   \n",
       "\n",
       "               VAMP8     PLOD2      CCND2     SLIT2  ...     ANOS1      PODXL  \\\n",
       "GSM3577568  8.809175  8.487247  10.489249  7.145141  ...  7.471127  10.897769   \n",
       "GSM3577569  7.914330  8.497360  10.859715  8.908524  ...  7.114199  12.708380   \n",
       "GSM3577570  7.847585  9.004310  10.301991  9.250748  ...  6.961242  11.530330   \n",
       "GSM3577571  9.074789  8.424629  11.137971  8.435121  ...  6.984808  11.559617   \n",
       "GSM3577572  7.955428  8.544640  10.460555  8.123934  ...  7.689838  12.243774   \n",
       "\n",
       "                 DYSF      HSPD1      LYVE1       DKK3      MRC1    TRIP13  \\\n",
       "GSM3577568  10.116928  12.644201  10.810777  14.082691  8.463000  5.995394   \n",
       "GSM3577569  10.984995   9.852173   8.004177  13.280336  5.976696  5.239730   \n",
       "GSM3577570  11.970774  10.018386   8.843638  12.592805  8.671735  4.855447   \n",
       "GSM3577571  10.037403  10.376445   9.752861  13.763698  5.911559  5.370991   \n",
       "GSM3577572  11.127480  10.786301   8.610983  13.643539  7.619065  4.835689   \n",
       "\n",
       "                GYPC     GULP1  \n",
       "GSM3577568  9.233799  3.317322  \n",
       "GSM3577569  9.119235  5.787218  \n",
       "GSM3577570  9.018386  5.286081  \n",
       "GSM3577571  8.802330  4.574524  \n",
       "GSM3577572  8.429870  5.042140  \n",
       "\n",
       "[5 rows x 100 columns]"
      ]
     },
     "execution_count": 15,
     "metadata": {},
     "output_type": "execute_result"
    }
   ],
   "source": [
    "selectDf = DataTot.loc[:, geneOverlap[0:100]]\n",
    "# create an excel file of the dataframe\n",
    "# selectDf.to_excel(\"completeDataset.xlsx\")\n",
    "selectDf.head()"
   ]
  },
  {
   "cell_type": "markdown",
   "metadata": {},
   "source": [
    "Make dataset"
   ]
  },
  {
   "cell_type": "code",
   "execution_count": 33,
   "metadata": {},
   "outputs": [
    {
     "data": {
      "text/html": [
       "<div>\n",
       "<style scoped>\n",
       "    .dataframe tbody tr th:only-of-type {\n",
       "        vertical-align: middle;\n",
       "    }\n",
       "\n",
       "    .dataframe tbody tr th {\n",
       "        vertical-align: top;\n",
       "    }\n",
       "\n",
       "    .dataframe thead th {\n",
       "        text-align: right;\n",
       "    }\n",
       "</style>\n",
       "<table border=\"1\" class=\"dataframe\">\n",
       "  <thead>\n",
       "    <tr style=\"text-align: right;\">\n",
       "      <th></th>\n",
       "      <th>PCDH7</th>\n",
       "      <th>NUPR1</th>\n",
       "      <th>ANXA3</th>\n",
       "      <th>TMPO</th>\n",
       "      <th>LYPD1</th>\n",
       "      <th>NDC1</th>\n",
       "      <th>VAMP8</th>\n",
       "      <th>PLOD2</th>\n",
       "      <th>CCND2</th>\n",
       "      <th>SLIT2</th>\n",
       "      <th>...</th>\n",
       "      <th>ANOS1</th>\n",
       "      <th>PODXL</th>\n",
       "      <th>DYSF</th>\n",
       "      <th>HSPD1</th>\n",
       "      <th>LYVE1</th>\n",
       "      <th>DKK3</th>\n",
       "      <th>MRC1</th>\n",
       "      <th>TRIP13</th>\n",
       "      <th>GYPC</th>\n",
       "      <th>GULP1</th>\n",
       "    </tr>\n",
       "  </thead>\n",
       "  <tbody>\n",
       "    <tr>\n",
       "      <th>GSM3577613</th>\n",
       "      <td>10.912153</td>\n",
       "      <td>9.126512</td>\n",
       "      <td>8.500604</td>\n",
       "      <td>9.583430</td>\n",
       "      <td>8.866449</td>\n",
       "      <td>8.211097</td>\n",
       "      <td>6.967172</td>\n",
       "      <td>9.417949</td>\n",
       "      <td>11.051840</td>\n",
       "      <td>9.011566</td>\n",
       "      <td>...</td>\n",
       "      <td>8.041172</td>\n",
       "      <td>10.524988</td>\n",
       "      <td>10.390785</td>\n",
       "      <td>10.214100</td>\n",
       "      <td>7.730471</td>\n",
       "      <td>14.197129</td>\n",
       "      <td>7.391670</td>\n",
       "      <td>6.763638</td>\n",
       "      <td>7.304207</td>\n",
       "      <td>6.433490</td>\n",
       "    </tr>\n",
       "    <tr>\n",
       "      <th>GSM3577725</th>\n",
       "      <td>7.851302</td>\n",
       "      <td>13.006739</td>\n",
       "      <td>8.271519</td>\n",
       "      <td>8.793057</td>\n",
       "      <td>10.667526</td>\n",
       "      <td>6.882108</td>\n",
       "      <td>8.397697</td>\n",
       "      <td>8.798450</td>\n",
       "      <td>10.718203</td>\n",
       "      <td>6.776755</td>\n",
       "      <td>...</td>\n",
       "      <td>7.432800</td>\n",
       "      <td>12.433667</td>\n",
       "      <td>9.648240</td>\n",
       "      <td>12.591119</td>\n",
       "      <td>9.526777</td>\n",
       "      <td>14.162290</td>\n",
       "      <td>6.539716</td>\n",
       "      <td>5.124678</td>\n",
       "      <td>9.302216</td>\n",
       "      <td>5.539716</td>\n",
       "    </tr>\n",
       "    <tr>\n",
       "      <th>GSM3577842</th>\n",
       "      <td>9.005327</td>\n",
       "      <td>11.865658</td>\n",
       "      <td>8.397895</td>\n",
       "      <td>9.730176</td>\n",
       "      <td>10.305052</td>\n",
       "      <td>7.676827</td>\n",
       "      <td>7.867824</td>\n",
       "      <td>8.986848</td>\n",
       "      <td>10.407851</td>\n",
       "      <td>7.802906</td>\n",
       "      <td>...</td>\n",
       "      <td>7.187442</td>\n",
       "      <td>11.409339</td>\n",
       "      <td>11.682169</td>\n",
       "      <td>12.175544</td>\n",
       "      <td>8.954608</td>\n",
       "      <td>13.416754</td>\n",
       "      <td>7.509370</td>\n",
       "      <td>5.516749</td>\n",
       "      <td>8.802906</td>\n",
       "      <td>4.856236</td>\n",
       "    </tr>\n",
       "    <tr>\n",
       "      <th>GSM3577610</th>\n",
       "      <td>10.368761</td>\n",
       "      <td>9.715583</td>\n",
       "      <td>8.294181</td>\n",
       "      <td>8.635462</td>\n",
       "      <td>9.851038</td>\n",
       "      <td>7.801313</td>\n",
       "      <td>8.280197</td>\n",
       "      <td>8.540887</td>\n",
       "      <td>11.076131</td>\n",
       "      <td>9.132351</td>\n",
       "      <td>...</td>\n",
       "      <td>6.741330</td>\n",
       "      <td>10.276679</td>\n",
       "      <td>9.846300</td>\n",
       "      <td>9.964695</td>\n",
       "      <td>7.142693</td>\n",
       "      <td>14.265262</td>\n",
       "      <td>4.261337</td>\n",
       "      <td>5.713850</td>\n",
       "      <td>8.685835</td>\n",
       "      <td>5.405727</td>\n",
       "    </tr>\n",
       "    <tr>\n",
       "      <th>GSM3577749</th>\n",
       "      <td>11.081365</td>\n",
       "      <td>8.380236</td>\n",
       "      <td>7.659113</td>\n",
       "      <td>9.195675</td>\n",
       "      <td>8.519639</td>\n",
       "      <td>8.064269</td>\n",
       "      <td>5.987918</td>\n",
       "      <td>8.596213</td>\n",
       "      <td>11.460477</td>\n",
       "      <td>9.753222</td>\n",
       "      <td>...</td>\n",
       "      <td>7.639282</td>\n",
       "      <td>10.892716</td>\n",
       "      <td>10.265256</td>\n",
       "      <td>10.007388</td>\n",
       "      <td>6.865236</td>\n",
       "      <td>14.269697</td>\n",
       "      <td>6.644265</td>\n",
       "      <td>5.839396</td>\n",
       "      <td>6.813084</td>\n",
       "      <td>6.654181</td>\n",
       "    </tr>\n",
       "  </tbody>\n",
       "</table>\n",
       "<p>5 rows × 100 columns</p>\n",
       "</div>"
      ],
      "text/plain": [
       "                PCDH7      NUPR1     ANXA3      TMPO      LYPD1      NDC1  \\\n",
       "GSM3577613  10.912153   9.126512  8.500604  9.583430   8.866449  8.211097   \n",
       "GSM3577725   7.851302  13.006739  8.271519  8.793057  10.667526  6.882108   \n",
       "GSM3577842   9.005327  11.865658  8.397895  9.730176  10.305052  7.676827   \n",
       "GSM3577610  10.368761   9.715583  8.294181  8.635462   9.851038  7.801313   \n",
       "GSM3577749  11.081365   8.380236  7.659113  9.195675   8.519639  8.064269   \n",
       "\n",
       "               VAMP8     PLOD2      CCND2     SLIT2  ...     ANOS1      PODXL  \\\n",
       "GSM3577613  6.967172  9.417949  11.051840  9.011566  ...  8.041172  10.524988   \n",
       "GSM3577725  8.397697  8.798450  10.718203  6.776755  ...  7.432800  12.433667   \n",
       "GSM3577842  7.867824  8.986848  10.407851  7.802906  ...  7.187442  11.409339   \n",
       "GSM3577610  8.280197  8.540887  11.076131  9.132351  ...  6.741330  10.276679   \n",
       "GSM3577749  5.987918  8.596213  11.460477  9.753222  ...  7.639282  10.892716   \n",
       "\n",
       "                 DYSF      HSPD1     LYVE1       DKK3      MRC1    TRIP13  \\\n",
       "GSM3577613  10.390785  10.214100  7.730471  14.197129  7.391670  6.763638   \n",
       "GSM3577725   9.648240  12.591119  9.526777  14.162290  6.539716  5.124678   \n",
       "GSM3577842  11.682169  12.175544  8.954608  13.416754  7.509370  5.516749   \n",
       "GSM3577610   9.846300   9.964695  7.142693  14.265262  4.261337  5.713850   \n",
       "GSM3577749  10.265256  10.007388  6.865236  14.269697  6.644265  5.839396   \n",
       "\n",
       "                GYPC     GULP1  \n",
       "GSM3577613  7.304207  6.433490  \n",
       "GSM3577725  9.302216  5.539716  \n",
       "GSM3577842  8.802906  4.856236  \n",
       "GSM3577610  8.685835  5.405727  \n",
       "GSM3577749  6.813084  6.654181  \n",
       "\n",
       "[5 rows x 100 columns]"
      ]
     },
     "execution_count": 33,
     "metadata": {},
     "output_type": "execute_result"
    }
   ],
   "source": [
    "# create 70/30 split\n",
    "shuffledData = selectDf.sample(frac=1, random_state=42)\n",
    "shuffledData.head()"
   ]
  },
  {
   "cell_type": "code",
   "execution_count": null,
   "metadata": {},
   "outputs": [],
   "source": [
    "x, y = shuffledData.shape\n",
    "splitThreshold = round(x*.7)\n",
    "\n",
    "TrainData = shuffledData.iloc[0:splitThreshold, :]\n",
    "TestData = shuffledData.iloc[splitThreshold:, :]"
   ]
  },
  {
   "cell_type": "code",
   "execution_count": null,
   "metadata": {},
   "outputs": [],
   "source": [
    "# create input and output set (50/50) for now, but may change later\n",
    "# randomize columns\n",
    "tempShuffleDf = TrainData.T\n",
    "tempShuffleDf = tempShuffleDf.sample(frac=1, random_state=500)\n",
    "TrainData = tempShuffleDf.T\n",
    "tempShuffleDf = TestData.T\n",
    "tempShuffleDf = tempShuffleDf.sample(frac=1, random_state=500)\n",
    "TestData = tempShuffleDf.T\n",
    "\n",
    "# split the data\n",
    "x_train = TrainData.iloc[:, 0:50]\n",
    "y_train = TrainData.iloc[:, 50:]\n",
    "\n",
    "x_test = TestData.iloc[:, 0:50]\n",
    "y_test = TestData.iloc[:, 50:]\n",
    "\n",
    "# print(tempShuffleDf.T) #note .T transposes/reverses the data\n",
    "y_test.head()"
   ]
  },
  {
   "cell_type": "code",
   "execution_count": null,
   "metadata": {},
   "outputs": [],
   "source": [
    "print(x_train.shape)\n",
    "print(y_train.shape)\n",
    "print(x_test.shape)\n",
    "print(y_test.shape)"
   ]
  },
  {
   "cell_type": "markdown",
   "metadata": {},
   "source": [
    "Train Random Forest\n",
    "\n",
    "I used classification first simply because it was the first one lol... future Amy here. Turns out I should be using regression instead or else I run into a 'continuous-multioutput' error... "
   ]
  },
  {
   "cell_type": "code",
   "execution_count": null,
   "metadata": {},
   "outputs": [],
   "source": [
    "# importing sklearn (and pandas again) because my computer doesn't recognize it\n",
    "! /Users/Amy/anaconda3/python.exe -m pip install sklearn"
   ]
  },
  {
   "cell_type": "code",
   "execution_count": null,
   "metadata": {},
   "outputs": [],
   "source": [
    "# ml import\n",
    "from sklearn.ensemble import RandomForestRegressor"
   ]
  },
  {
   "cell_type": "code",
   "execution_count": null,
   "metadata": {},
   "outputs": [],
   "source": [
    "print(x_train.shape)\n",
    "print(y_train.shape)\n",
    "print(df.iloc[0, 0])\n",
    "print('---------')\n",
    "print(selectDf.head(0).columns)"
   ]
  },
  {
   "cell_type": "code",
   "execution_count": null,
   "metadata": {},
   "outputs": [],
   "source": [
    "# instantiate model and train\n",
    "reg = RandomForestRegressor(n_estimators=400, random_state=42)\n",
    "reg.fit(x_train, y_train) #nah this should work... but it just doesn't quite match the actual thing nicely"
   ]
  },
  {
   "cell_type": "markdown",
   "metadata": {},
   "source": [
    "Test Random Forest"
   ]
  },
  {
   "cell_type": "code",
   "execution_count": null,
   "metadata": {},
   "outputs": [],
   "source": [
    "y_pred = reg.predict(x_test)"
   ]
  },
  {
   "cell_type": "code",
   "execution_count": null,
   "metadata": {},
   "outputs": [],
   "source": [
    "print(y_test.shape, y_pred.shape) #wtf y_pred is already a numpyarray whereas y_test is the one that isn't\n",
    "ny_test = y_test.to_numpy()\n",
    "print(y_pred[:, 0]) #only the predicted values for the first gene\n",
    "print(ny_test[:, 0]) #only the actual values for the first gene"
   ]
  },
  {
   "cell_type": "code",
   "execution_count": null,
   "metadata": {},
   "outputs": [],
   "source": [
    "df2 = pd.DataFrame()\n",
    "df2['Predicted'] = y_pred[:, 0]\n",
    "df2['Actual'] = ny_test[:, 0]\n",
    "\n",
    "df2"
   ]
  },
  {
   "cell_type": "code",
   "execution_count": null,
   "metadata": {},
   "outputs": [],
   "source": [
    "print(y_pred[:, 0].tolist())\n",
    "print(ny_test[:, 0].tolist())"
   ]
  },
  {
   "cell_type": "code",
   "execution_count": null,
   "metadata": {},
   "outputs": [],
   "source": [
    "#experimental function to find the percent difference error\n",
    "predicted = [7.090191573100002, 7.458117004670004, 8.600444416470005, 7.788848798920004, 8.40825437213, 7.020327500409999, 8.818133271350002, 7.8266646558799975, 6.9378079908900006, 6.872748400490001, 7.506390345189996, 8.676429359800004, 8.554343255570004, 7.166067258440004, 8.747529485299998, 7.968960927520005, 7.452849082630001, 7.761508404270005, 8.320082494520001, 7.971978045290004, 6.697892382179999, 8.949659341020002, 8.5578288482, 8.959041092180001, 8.720058047870003, 9.099238304330001, 6.597845043869999, 8.771403687159996, 8.97738436032, 9.337057343459998, 8.615097380400004, 8.379626407890001, 6.837338580420003, 6.728788978850002, 6.72586007986, 8.569162017440004, 8.760991396020003, 6.398245022990002, 8.775553368840006, 8.599701066330004, 6.706699092590001, 7.119638600939998, 7.276036668970002, 8.70239843987, 7.404154973279999, 8.162479427099996, 6.613187798319999, 8.779790491420004, 8.06791024708, 7.6901312955200005, 6.943329752419999, 7.805397315200001, 7.597572052499999, 7.180362284900005, 8.814388118280004, 8.770979079269997, 8.452227193040002, 8.525045438540001, 7.466116578500001, 6.994484173059999, 7.585299090140003, 8.753943669680002, 8.870920817819997, 7.499310703240001, 9.286605262920002, 7.215856328890001, 9.01209597088, 8.669163431630004, 7.186433201240003, 7.302876306980005, 8.488108625080002, 7.504864159039996, 7.927865327730001, 6.44979854136, 7.310411780489999, 8.626030034680007, 8.696088902549997, 7.079432411410002, 8.071684938880002, 8.670569142679998, 7.816587408060005, 8.141853975380002, 8.353289437620003, 8.788246874929996, 8.285601362710002, 8.440699586870002, 8.812269140540002]\n",
    "actual = [6.897812565, 7.338213509, 8.702359981, 7.948689744, 8.542811765, 6.837543279, 9.269233796, 8.330263567, 6.537387668, 7.477668772, 7.705141327, 8.388086398, 9.047330902, 7.177687891, 10.07887491, 9.96112512, 8.251808157, 6.519026254, 8.593129162, 8.215544999, 7.127999315, 10.67614923, 8.178851803, 9.602720917, 8.661232602, 9.332002144, 5.497343234, 8.824692683, 9.209058607, 10.23649005, 9.169253621, 8.778581143, 7.461903599, 5.902414739, 6.728518061, 9.278008069, 8.990431014, 6.179569244, 9.553214953, 9.109478527, 5.240724147, 6.385636127, 7.785670875, 7.881095765, 7.66056203, 7.875984985, 6.533125215, 8.506735274, 8.547510836, 7.644934135, 7.248378845, 8.506008575, 7.605692603, 7.694407888, 9.458641893, 8.627903977, 9.76776567, 8.207819731, 7.342463366, 7.43472634, 8.535281792, 8.828590939, 9.350347751, 7.530876833, 9.484744463, 7.558263108, 9.522007793, 9.427759537, 8.263312582, 7.284029873, 8.352555076, 6.142537446, 8.535022869, 5.554148673, 7.672479957, 8.185338403, 8.421832893, 7.733339952, 9.832547685, 8.320524407, 8.941760952, 9.285487465, 9.122246483, 8.718260929, 8.794853801, 8.622207487, 10.1410804]\n",
    "\n",
    "# find the percent difference of each value, add them up and divide by 87 to find average percent difference\n",
    "averagePercentDifference = 0\n",
    "for index in range(87):\n",
    "    # percent difference equation: |pred-actual|/actual\n",
    "    averagePercentDifference += abs(predicted[index]-actual[index])/actual[index] * 100\n",
    "# divided by 87\n",
    "averagePercentDifference /= 87\n",
    "\n",
    "averagePercentDifference"
   ]
  },
  {
   "cell_type": "markdown",
   "metadata": {},
   "source": [
    "# Combining the previous steps to check reliability and run tests repeatedly"
   ]
  },
  {
   "cell_type": "code",
   "execution_count": 1,
   "metadata": {},
   "outputs": [
    {
     "data": {
      "text/plain": [
       "5.469987582069285"
      ]
     },
     "execution_count": 1,
     "metadata": {},
     "output_type": "execute_result"
    }
   ],
   "source": [
    "# run this test multiple times... because I am not convinced of the results\n",
    "import pandas as pd\n",
    "import random\n",
    "# ml import\n",
    "from sklearn.ensemble import RandomForestRegressor\n",
    "\n",
    "averagePercentDifference = 0\n",
    "numTrials = 1\n",
    "for i in range(numTrials):\n",
    "    # convert the completeDataset.xlsx into a pandas dataframe because I don't want to redo the previous steps over and over again every time I reopen the notebook\n",
    "    selectDf = pd.read_excel(\"completeDataset.xlsx\", index_col=0)\n",
    "\n",
    "    randNum = random.randrange(500)\n",
    "    # create 70/30 split of training and testing datasets\n",
    "    shuffledData = selectDf.sample(frac=1, random_state=42)\n",
    "\n",
    "    x, y = shuffledData.shape\n",
    "    splitThreshold = round(x*.7)\n",
    "\n",
    "    TrainData = shuffledData.iloc[0:splitThreshold, :]\n",
    "    TestData = shuffledData.iloc[splitThreshold:, :]\n",
    "\n",
    "    # create input and output set (50/50) for now, but may change later\n",
    "    # randomize columns\n",
    "    tempShuffleDf = TrainData.T\n",
    "    tempShuffleDf = tempShuffleDf.sample(frac=1, random_state=randNum)\n",
    "    TrainData = tempShuffleDf.T\n",
    "    tempShuffleDf = TestData.T\n",
    "    tempShuffleDf = tempShuffleDf.sample(frac=1, random_state=randNum)\n",
    "    TestData = tempShuffleDf.T\n",
    "\n",
    "    splitIndex = 80 #first {splitIndex} will be used as input variables\n",
    "\n",
    "    # split the data\n",
    "    x_train = TrainData.iloc[:, 0:splitIndex]\n",
    "    y_train = TrainData.iloc[:, splitIndex:]\n",
    "\n",
    "    x_test = TestData.iloc[:, 0:splitIndex]\n",
    "    y_test = TestData.iloc[:, splitIndex:]\n",
    "\n",
    "    # instantiate model and train\n",
    "    reg = RandomForestRegressor(n_estimators=100, random_state=42)\n",
    "    reg.fit(x_train, y_train)\n",
    "\n",
    "    # actually train the model\n",
    "    y_pred = reg.predict(x_test)\n",
    "    ny_test = y_test.to_numpy()\n",
    "\n",
    "    x, y = y_pred.shape\n",
    "    for row in range(x):\n",
    "        for col in range(y):\n",
    "            # calculate the percent difference for the value\n",
    "            averagePercentDifference += abs(y_pred[row][col] - ny_test[row][col])/ny_test[row][col]\n",
    "    averagePercentDifference /= (x*y)\n",
    "\n",
    "averagePercentDifference*100"
   ]
  },
  {
   "cell_type": "markdown",
   "metadata": {},
   "source": [
    "Tuning the hyperparameters - source: https://towardsdatascience.com/hyperparameter-tuning-the-random-forest-in-python-using-scikit-learn-28d2aa77dd74"
   ]
  },
  {
   "cell_type": "code",
   "execution_count": 2,
   "metadata": {},
   "outputs": [
    {
     "name": "stdout",
     "output_type": "stream",
     "text": [
      "Parameters currently in use: \n",
      "\n",
      "{'bootstrap': True,\n",
      " 'ccp_alpha': 0.0,\n",
      " 'criterion': 'mse',\n",
      " 'max_depth': None,\n",
      " 'max_features': 'auto',\n",
      " 'max_leaf_nodes': None,\n",
      " 'max_samples': None,\n",
      " 'min_impurity_decrease': 0.0,\n",
      " 'min_impurity_split': None,\n",
      " 'min_samples_leaf': 1,\n",
      " 'min_samples_split': 2,\n",
      " 'min_weight_fraction_leaf': 0.0,\n",
      " 'n_estimators': 100,\n",
      " 'n_jobs': None,\n",
      " 'oob_score': False,\n",
      " 'random_state': 42,\n",
      " 'verbose': 0,\n",
      " 'warm_start': False}\n"
     ]
    }
   ],
   "source": [
    "from pprint import pprint\n",
    "\n",
    "print('Parameters currently in use: \\n')\n",
    "pprint(reg.get_params())"
   ]
  },
  {
   "cell_type": "markdown",
   "metadata": {},
   "source": [
    "# Cross Validation Testing"
   ]
  },
  {
   "cell_type": "code",
   "execution_count": 3,
   "metadata": {},
   "outputs": [
    {
     "name": "stdout",
     "output_type": "stream",
     "text": [
      "{'bootstrap': [True, False],\n",
      " 'max_depth': [10, 20, 30, 40, 50, 60, 70, 80, 90, 100, 110, None],\n",
      " 'max_features': ['auto', 'sqrt'],\n",
      " 'min_samples_leaf': [1, 2, 4],\n",
      " 'min_samples_split': [2, 5, 10],\n",
      " 'n_estimators': [200, 400, 600, 800, 1000, 1200, 1400, 1600, 1800, 2000]}\n"
     ]
    }
   ],
   "source": [
    "# from the article it states that the most important hyperparameters is the n_estimators (# of trees), number of features (max_features)\n",
    "# possible adjustments to be made and explanation\n",
    "'''\n",
    "n_estimators = number of trees in the foreset\n",
    "max_features = max number of features considered for splitting a node\n",
    "max_depth = max number of levels in each decision tree\n",
    "min_samples_split = min number of data points placed in a node before the node is split\n",
    "min_samples_leaf = min number of data points allowed in a leaf node\n",
    "bootstrap = method for sampling data points (with or without replacement)\n",
    "'''\n",
    "import numpy as np\n",
    "from sklearn.model_selection import RandomizedSearchCV\n",
    "# Number of trees in random forest\n",
    "n_estimators = [int(x) for x in np.linspace(start = 200, stop = 2000, num = 10)]\n",
    "# Number of features to consider at every split\n",
    "max_features = ['auto', 'sqrt']\n",
    "# Maximum number of levels in tree\n",
    "max_depth = [int(x) for x in np.linspace(10, 110, num = 11)]\n",
    "max_depth.append(None)\n",
    "# Minimum number of samples required to split a node\n",
    "min_samples_split = [2, 5, 10]\n",
    "# Minimum number of samples required at each leaf node\n",
    "min_samples_leaf = [1, 2, 4]\n",
    "# Method of selecting samples for training each tree\n",
    "bootstrap = [True, False]\n",
    "# Create the random grid\n",
    "random_grid = {'n_estimators': n_estimators,\n",
    "               'max_features': max_features,\n",
    "               'max_depth': max_depth,\n",
    "               'min_samples_split': min_samples_split,\n",
    "               'min_samples_leaf': min_samples_leaf,\n",
    "               'bootstrap': bootstrap}\n",
    "pprint(random_grid)\n",
    "# total of 4320 possible settings"
   ]
  },
  {
   "cell_type": "markdown",
   "metadata": {},
   "source": [
    "Random Search Training"
   ]
  },
  {
   "cell_type": "code",
   "execution_count": 6,
   "metadata": {},
   "outputs": [
    {
     "name": "stdout",
     "output_type": "stream",
     "text": [
      "Fitting 3 folds for each of 1 candidates, totalling 3 fits\n"
     ]
    },
    {
     "data": {
      "text/plain": [
       "{'n_estimators': 200,\n",
       " 'min_samples_split': 10,\n",
       " 'min_samples_leaf': 2,\n",
       " 'max_features': 'sqrt',\n",
       " 'max_depth': 50,\n",
       " 'bootstrap': True}"
      ]
     },
     "execution_count": 6,
     "metadata": {},
     "output_type": "execute_result"
    }
   ],
   "source": [
    "# Use the random grid to search for best hyperparameters\n",
    "# First create the base model to tune\n",
    "rf = RandomForestRegressor()\n",
    "# Random search of parameters, using 3 fold cross validation, \n",
    "# search across 100 different combinations, and use all available cores\n",
    "rf_random = RandomizedSearchCV(estimator = rf, param_distributions = random_grid, n_iter = 1, cv = 3, verbose=2, random_state=42, n_jobs = -1) #n_iter used to be 100\n",
    "# Fit the random search model\n",
    "rf_random.fit(x_train, y_train)\n",
    "# rf_pred = rf_random.predict(x_test) # something new I added... maybe check it out later\n",
    "\n",
    "rf_random.best_params_"
   ]
  },
  {
   "cell_type": "code",
   "execution_count": 7,
   "metadata": {},
   "outputs": [
    {
     "name": "stdout",
     "output_type": "stream",
     "text": [
      "Model Performance\n",
      "Average Error: 0.3980 degrees.\n",
      "Accuracy = 94.53%.\n",
      "\n",
      "Model Performance\n",
      "Average Error: 0.4223 degrees.\n",
      "Accuracy = 94.21%.\n"
     ]
    }
   ],
   "source": [
    "def evaluate(model, test_features, test_labels):\n",
    "    predictions = model.predict(test_features)\n",
    "    errors = abs(predictions - test_labels)\n",
    "    errors = errors.to_numpy()\n",
    "    mape = 100 * np.mean(errors / test_labels)\n",
    "    accuracy = 100 - mape\n",
    "    print('Model Performance')\n",
    "    print('Average Error: {:0.4f} degrees.'.format(np.mean(errors))) #idk if this works as intended ngl\n",
    "    print('Accuracy = {:0.2f}%.'.format(np.mean(accuracy.to_list())))\n",
    "    \n",
    "    return accuracy\n",
    "# base_model = RandomForestRegressor(n_estimators = 10, random_state = 42)\n",
    "# base_model.fit(x_train, y_train)\n",
    "# base_accuracy = evaluate(base_model, x_test, y_test)\n",
    "\n",
    "base_accuracy = evaluate(reg, x_test, y_test)\n",
    "\n",
    "print()\n",
    "\n",
    "best_random = rf_random.best_estimator_\n",
    "random_accuracy = evaluate(best_random, x_test, y_test)"
   ]
  },
  {
   "cell_type": "markdown",
   "metadata": {},
   "source": [
    "# Grid Search with Cross Validation"
   ]
  },
  {
   "cell_type": "code",
   "execution_count": 8,
   "metadata": {},
   "outputs": [
    {
     "name": "stdout",
     "output_type": "stream",
     "text": [
      "Fitting 3 folds for each of 150 candidates, totalling 450 fits\n"
     ]
    },
    {
     "ename": "KeyboardInterrupt",
     "evalue": "",
     "output_type": "error",
     "traceback": [
      "\u001b[1;31m---------------------------------------------------------------------------\u001b[0m",
      "\u001b[1;31mKeyboardInterrupt\u001b[0m                         Traceback (most recent call last)",
      "\u001b[1;32m~\\AppData\\Local\\Temp/ipykernel_99972/2755553764.py\u001b[0m in \u001b[0;36m<module>\u001b[1;34m\u001b[0m\n\u001b[0;32m     16\u001b[0m \u001b[1;33m\u001b[0m\u001b[0m\n\u001b[0;32m     17\u001b[0m \u001b[1;31m# fit the grid search to the data\u001b[0m\u001b[1;33m\u001b[0m\u001b[1;33m\u001b[0m\u001b[0m\n\u001b[1;32m---> 18\u001b[1;33m \u001b[0mgrid_search\u001b[0m\u001b[1;33m.\u001b[0m\u001b[0mfit\u001b[0m\u001b[1;33m(\u001b[0m\u001b[0mx_train\u001b[0m\u001b[1;33m,\u001b[0m \u001b[0my_train\u001b[0m\u001b[1;33m)\u001b[0m\u001b[1;33m\u001b[0m\u001b[1;33m\u001b[0m\u001b[0m\n\u001b[0m\u001b[0;32m     19\u001b[0m \u001b[0mgrid_search\u001b[0m\u001b[1;33m.\u001b[0m\u001b[0mbest_params_\u001b[0m\u001b[1;33m\u001b[0m\u001b[1;33m\u001b[0m\u001b[0m\n",
      "\u001b[1;32mc:\\Users\\Amy\\anaconda3\\lib\\site-packages\\sklearn\\utils\\validation.py\u001b[0m in \u001b[0;36minner_f\u001b[1;34m(*args, **kwargs)\u001b[0m\n\u001b[0;32m     61\u001b[0m             \u001b[0mextra_args\u001b[0m \u001b[1;33m=\u001b[0m \u001b[0mlen\u001b[0m\u001b[1;33m(\u001b[0m\u001b[0margs\u001b[0m\u001b[1;33m)\u001b[0m \u001b[1;33m-\u001b[0m \u001b[0mlen\u001b[0m\u001b[1;33m(\u001b[0m\u001b[0mall_args\u001b[0m\u001b[1;33m)\u001b[0m\u001b[1;33m\u001b[0m\u001b[1;33m\u001b[0m\u001b[0m\n\u001b[0;32m     62\u001b[0m             \u001b[1;32mif\u001b[0m \u001b[0mextra_args\u001b[0m \u001b[1;33m<=\u001b[0m \u001b[1;36m0\u001b[0m\u001b[1;33m:\u001b[0m\u001b[1;33m\u001b[0m\u001b[1;33m\u001b[0m\u001b[0m\n\u001b[1;32m---> 63\u001b[1;33m                 \u001b[1;32mreturn\u001b[0m \u001b[0mf\u001b[0m\u001b[1;33m(\u001b[0m\u001b[1;33m*\u001b[0m\u001b[0margs\u001b[0m\u001b[1;33m,\u001b[0m \u001b[1;33m**\u001b[0m\u001b[0mkwargs\u001b[0m\u001b[1;33m)\u001b[0m\u001b[1;33m\u001b[0m\u001b[1;33m\u001b[0m\u001b[0m\n\u001b[0m\u001b[0;32m     64\u001b[0m \u001b[1;33m\u001b[0m\u001b[0m\n\u001b[0;32m     65\u001b[0m             \u001b[1;31m# extra_args > 0\u001b[0m\u001b[1;33m\u001b[0m\u001b[1;33m\u001b[0m\u001b[0m\n",
      "\u001b[1;32mc:\\Users\\Amy\\anaconda3\\lib\\site-packages\\sklearn\\model_selection\\_search.py\u001b[0m in \u001b[0;36mfit\u001b[1;34m(self, X, y, groups, **fit_params)\u001b[0m\n\u001b[0;32m    839\u001b[0m                 \u001b[1;32mreturn\u001b[0m \u001b[0mresults\u001b[0m\u001b[1;33m\u001b[0m\u001b[1;33m\u001b[0m\u001b[0m\n\u001b[0;32m    840\u001b[0m \u001b[1;33m\u001b[0m\u001b[0m\n\u001b[1;32m--> 841\u001b[1;33m             \u001b[0mself\u001b[0m\u001b[1;33m.\u001b[0m\u001b[0m_run_search\u001b[0m\u001b[1;33m(\u001b[0m\u001b[0mevaluate_candidates\u001b[0m\u001b[1;33m)\u001b[0m\u001b[1;33m\u001b[0m\u001b[1;33m\u001b[0m\u001b[0m\n\u001b[0m\u001b[0;32m    842\u001b[0m \u001b[1;33m\u001b[0m\u001b[0m\n\u001b[0;32m    843\u001b[0m             \u001b[1;31m# multimetric is determined here because in the case of a callable\u001b[0m\u001b[1;33m\u001b[0m\u001b[1;33m\u001b[0m\u001b[0m\n",
      "\u001b[1;32mc:\\Users\\Amy\\anaconda3\\lib\\site-packages\\sklearn\\model_selection\\_search.py\u001b[0m in \u001b[0;36m_run_search\u001b[1;34m(self, evaluate_candidates)\u001b[0m\n\u001b[0;32m   1294\u001b[0m     \u001b[1;32mdef\u001b[0m \u001b[0m_run_search\u001b[0m\u001b[1;33m(\u001b[0m\u001b[0mself\u001b[0m\u001b[1;33m,\u001b[0m \u001b[0mevaluate_candidates\u001b[0m\u001b[1;33m)\u001b[0m\u001b[1;33m:\u001b[0m\u001b[1;33m\u001b[0m\u001b[1;33m\u001b[0m\u001b[0m\n\u001b[0;32m   1295\u001b[0m         \u001b[1;34m\"\"\"Search all candidates in param_grid\"\"\"\u001b[0m\u001b[1;33m\u001b[0m\u001b[1;33m\u001b[0m\u001b[0m\n\u001b[1;32m-> 1296\u001b[1;33m         \u001b[0mevaluate_candidates\u001b[0m\u001b[1;33m(\u001b[0m\u001b[0mParameterGrid\u001b[0m\u001b[1;33m(\u001b[0m\u001b[0mself\u001b[0m\u001b[1;33m.\u001b[0m\u001b[0mparam_grid\u001b[0m\u001b[1;33m)\u001b[0m\u001b[1;33m)\u001b[0m\u001b[1;33m\u001b[0m\u001b[1;33m\u001b[0m\u001b[0m\n\u001b[0m\u001b[0;32m   1297\u001b[0m \u001b[1;33m\u001b[0m\u001b[0m\n\u001b[0;32m   1298\u001b[0m \u001b[1;33m\u001b[0m\u001b[0m\n",
      "\u001b[1;32mc:\\Users\\Amy\\anaconda3\\lib\\site-packages\\sklearn\\model_selection\\_search.py\u001b[0m in \u001b[0;36mevaluate_candidates\u001b[1;34m(candidate_params, cv, more_results)\u001b[0m\n\u001b[0;32m    793\u001b[0m                               n_splits, n_candidates, n_candidates * n_splits))\n\u001b[0;32m    794\u001b[0m \u001b[1;33m\u001b[0m\u001b[0m\n\u001b[1;32m--> 795\u001b[1;33m                 out = parallel(delayed(_fit_and_score)(clone(base_estimator),\n\u001b[0m\u001b[0;32m    796\u001b[0m                                                        \u001b[0mX\u001b[0m\u001b[1;33m,\u001b[0m \u001b[0my\u001b[0m\u001b[1;33m,\u001b[0m\u001b[1;33m\u001b[0m\u001b[1;33m\u001b[0m\u001b[0m\n\u001b[0;32m    797\u001b[0m                                                        \u001b[0mtrain\u001b[0m\u001b[1;33m=\u001b[0m\u001b[0mtrain\u001b[0m\u001b[1;33m,\u001b[0m \u001b[0mtest\u001b[0m\u001b[1;33m=\u001b[0m\u001b[0mtest\u001b[0m\u001b[1;33m,\u001b[0m\u001b[1;33m\u001b[0m\u001b[1;33m\u001b[0m\u001b[0m\n",
      "\u001b[1;32mc:\\Users\\Amy\\anaconda3\\lib\\site-packages\\joblib\\parallel.py\u001b[0m in \u001b[0;36m__call__\u001b[1;34m(self, iterable)\u001b[0m\n\u001b[0;32m   1054\u001b[0m \u001b[1;33m\u001b[0m\u001b[0m\n\u001b[0;32m   1055\u001b[0m             \u001b[1;32mwith\u001b[0m \u001b[0mself\u001b[0m\u001b[1;33m.\u001b[0m\u001b[0m_backend\u001b[0m\u001b[1;33m.\u001b[0m\u001b[0mretrieval_context\u001b[0m\u001b[1;33m(\u001b[0m\u001b[1;33m)\u001b[0m\u001b[1;33m:\u001b[0m\u001b[1;33m\u001b[0m\u001b[1;33m\u001b[0m\u001b[0m\n\u001b[1;32m-> 1056\u001b[1;33m                 \u001b[0mself\u001b[0m\u001b[1;33m.\u001b[0m\u001b[0mretrieve\u001b[0m\u001b[1;33m(\u001b[0m\u001b[1;33m)\u001b[0m\u001b[1;33m\u001b[0m\u001b[1;33m\u001b[0m\u001b[0m\n\u001b[0m\u001b[0;32m   1057\u001b[0m             \u001b[1;31m# Make sure that we get a last message telling us we are done\u001b[0m\u001b[1;33m\u001b[0m\u001b[1;33m\u001b[0m\u001b[0m\n\u001b[0;32m   1058\u001b[0m             \u001b[0melapsed_time\u001b[0m \u001b[1;33m=\u001b[0m \u001b[0mtime\u001b[0m\u001b[1;33m.\u001b[0m\u001b[0mtime\u001b[0m\u001b[1;33m(\u001b[0m\u001b[1;33m)\u001b[0m \u001b[1;33m-\u001b[0m \u001b[0mself\u001b[0m\u001b[1;33m.\u001b[0m\u001b[0m_start_time\u001b[0m\u001b[1;33m\u001b[0m\u001b[1;33m\u001b[0m\u001b[0m\n",
      "\u001b[1;32mc:\\Users\\Amy\\anaconda3\\lib\\site-packages\\joblib\\parallel.py\u001b[0m in \u001b[0;36mretrieve\u001b[1;34m(self)\u001b[0m\n\u001b[0;32m    933\u001b[0m             \u001b[1;32mtry\u001b[0m\u001b[1;33m:\u001b[0m\u001b[1;33m\u001b[0m\u001b[1;33m\u001b[0m\u001b[0m\n\u001b[0;32m    934\u001b[0m                 \u001b[1;32mif\u001b[0m \u001b[0mgetattr\u001b[0m\u001b[1;33m(\u001b[0m\u001b[0mself\u001b[0m\u001b[1;33m.\u001b[0m\u001b[0m_backend\u001b[0m\u001b[1;33m,\u001b[0m \u001b[1;34m'supports_timeout'\u001b[0m\u001b[1;33m,\u001b[0m \u001b[1;32mFalse\u001b[0m\u001b[1;33m)\u001b[0m\u001b[1;33m:\u001b[0m\u001b[1;33m\u001b[0m\u001b[1;33m\u001b[0m\u001b[0m\n\u001b[1;32m--> 935\u001b[1;33m                     \u001b[0mself\u001b[0m\u001b[1;33m.\u001b[0m\u001b[0m_output\u001b[0m\u001b[1;33m.\u001b[0m\u001b[0mextend\u001b[0m\u001b[1;33m(\u001b[0m\u001b[0mjob\u001b[0m\u001b[1;33m.\u001b[0m\u001b[0mget\u001b[0m\u001b[1;33m(\u001b[0m\u001b[0mtimeout\u001b[0m\u001b[1;33m=\u001b[0m\u001b[0mself\u001b[0m\u001b[1;33m.\u001b[0m\u001b[0mtimeout\u001b[0m\u001b[1;33m)\u001b[0m\u001b[1;33m)\u001b[0m\u001b[1;33m\u001b[0m\u001b[1;33m\u001b[0m\u001b[0m\n\u001b[0m\u001b[0;32m    936\u001b[0m                 \u001b[1;32melse\u001b[0m\u001b[1;33m:\u001b[0m\u001b[1;33m\u001b[0m\u001b[1;33m\u001b[0m\u001b[0m\n\u001b[0;32m    937\u001b[0m                     \u001b[0mself\u001b[0m\u001b[1;33m.\u001b[0m\u001b[0m_output\u001b[0m\u001b[1;33m.\u001b[0m\u001b[0mextend\u001b[0m\u001b[1;33m(\u001b[0m\u001b[0mjob\u001b[0m\u001b[1;33m.\u001b[0m\u001b[0mget\u001b[0m\u001b[1;33m(\u001b[0m\u001b[1;33m)\u001b[0m\u001b[1;33m)\u001b[0m\u001b[1;33m\u001b[0m\u001b[1;33m\u001b[0m\u001b[0m\n",
      "\u001b[1;32mc:\\Users\\Amy\\anaconda3\\lib\\site-packages\\joblib\\_parallel_backends.py\u001b[0m in \u001b[0;36mwrap_future_result\u001b[1;34m(future, timeout)\u001b[0m\n\u001b[0;32m    540\u001b[0m         AsyncResults.get from multiprocessing.\"\"\"\n\u001b[0;32m    541\u001b[0m         \u001b[1;32mtry\u001b[0m\u001b[1;33m:\u001b[0m\u001b[1;33m\u001b[0m\u001b[1;33m\u001b[0m\u001b[0m\n\u001b[1;32m--> 542\u001b[1;33m             \u001b[1;32mreturn\u001b[0m \u001b[0mfuture\u001b[0m\u001b[1;33m.\u001b[0m\u001b[0mresult\u001b[0m\u001b[1;33m(\u001b[0m\u001b[0mtimeout\u001b[0m\u001b[1;33m=\u001b[0m\u001b[0mtimeout\u001b[0m\u001b[1;33m)\u001b[0m\u001b[1;33m\u001b[0m\u001b[1;33m\u001b[0m\u001b[0m\n\u001b[0m\u001b[0;32m    543\u001b[0m         \u001b[1;32mexcept\u001b[0m \u001b[0mCfTimeoutError\u001b[0m \u001b[1;32mas\u001b[0m \u001b[0me\u001b[0m\u001b[1;33m:\u001b[0m\u001b[1;33m\u001b[0m\u001b[1;33m\u001b[0m\u001b[0m\n\u001b[0;32m    544\u001b[0m             \u001b[1;32mraise\u001b[0m \u001b[0mTimeoutError\u001b[0m \u001b[1;32mfrom\u001b[0m \u001b[0me\u001b[0m\u001b[1;33m\u001b[0m\u001b[1;33m\u001b[0m\u001b[0m\n",
      "\u001b[1;32mc:\\Users\\Amy\\anaconda3\\lib\\concurrent\\futures\\_base.py\u001b[0m in \u001b[0;36mresult\u001b[1;34m(self, timeout)\u001b[0m\n\u001b[0;32m    438\u001b[0m                     \u001b[1;32mreturn\u001b[0m \u001b[0mself\u001b[0m\u001b[1;33m.\u001b[0m\u001b[0m__get_result\u001b[0m\u001b[1;33m(\u001b[0m\u001b[1;33m)\u001b[0m\u001b[1;33m\u001b[0m\u001b[1;33m\u001b[0m\u001b[0m\n\u001b[0;32m    439\u001b[0m \u001b[1;33m\u001b[0m\u001b[0m\n\u001b[1;32m--> 440\u001b[1;33m                 \u001b[0mself\u001b[0m\u001b[1;33m.\u001b[0m\u001b[0m_condition\u001b[0m\u001b[1;33m.\u001b[0m\u001b[0mwait\u001b[0m\u001b[1;33m(\u001b[0m\u001b[0mtimeout\u001b[0m\u001b[1;33m)\u001b[0m\u001b[1;33m\u001b[0m\u001b[1;33m\u001b[0m\u001b[0m\n\u001b[0m\u001b[0;32m    441\u001b[0m \u001b[1;33m\u001b[0m\u001b[0m\n\u001b[0;32m    442\u001b[0m                 \u001b[1;32mif\u001b[0m \u001b[0mself\u001b[0m\u001b[1;33m.\u001b[0m\u001b[0m_state\u001b[0m \u001b[1;32min\u001b[0m \u001b[1;33m[\u001b[0m\u001b[0mCANCELLED\u001b[0m\u001b[1;33m,\u001b[0m \u001b[0mCANCELLED_AND_NOTIFIED\u001b[0m\u001b[1;33m]\u001b[0m\u001b[1;33m:\u001b[0m\u001b[1;33m\u001b[0m\u001b[1;33m\u001b[0m\u001b[0m\n",
      "\u001b[1;32mc:\\Users\\Amy\\anaconda3\\lib\\threading.py\u001b[0m in \u001b[0;36mwait\u001b[1;34m(self, timeout)\u001b[0m\n\u001b[0;32m    310\u001b[0m         \u001b[1;32mtry\u001b[0m\u001b[1;33m:\u001b[0m    \u001b[1;31m# restore state no matter what (e.g., KeyboardInterrupt)\u001b[0m\u001b[1;33m\u001b[0m\u001b[1;33m\u001b[0m\u001b[0m\n\u001b[0;32m    311\u001b[0m             \u001b[1;32mif\u001b[0m \u001b[0mtimeout\u001b[0m \u001b[1;32mis\u001b[0m \u001b[1;32mNone\u001b[0m\u001b[1;33m:\u001b[0m\u001b[1;33m\u001b[0m\u001b[1;33m\u001b[0m\u001b[0m\n\u001b[1;32m--> 312\u001b[1;33m                 \u001b[0mwaiter\u001b[0m\u001b[1;33m.\u001b[0m\u001b[0macquire\u001b[0m\u001b[1;33m(\u001b[0m\u001b[1;33m)\u001b[0m\u001b[1;33m\u001b[0m\u001b[1;33m\u001b[0m\u001b[0m\n\u001b[0m\u001b[0;32m    313\u001b[0m                 \u001b[0mgotit\u001b[0m \u001b[1;33m=\u001b[0m \u001b[1;32mTrue\u001b[0m\u001b[1;33m\u001b[0m\u001b[1;33m\u001b[0m\u001b[0m\n\u001b[0;32m    314\u001b[0m             \u001b[1;32melse\u001b[0m\u001b[1;33m:\u001b[0m\u001b[1;33m\u001b[0m\u001b[1;33m\u001b[0m\u001b[0m\n",
      "\u001b[1;31mKeyboardInterrupt\u001b[0m: "
     ]
    }
   ],
   "source": [
    "from sklearn.model_selection import GridSearchCV\n",
    "# Create the parameter grid based on the results of random search \n",
    "param_grid = {\n",
    "    'bootstrap': [True, False],\n",
    "    'max_depth': [50, 100, 150], #why is it these values... idk myself ngl\n",
    "    'max_features': [13, 15, 17, 19, 21], #idk for these values either tbh... maybe research later\n",
    "    'min_samples_leaf': [1],\n",
    "    'min_samples_split': [2],\n",
    "    'n_estimators': [100, 200, 300, 400, 500]\n",
    "}\n",
    "# Create a based model\n",
    "rf = RandomForestRegressor()\n",
    "# Instantiate the grid search model\n",
    "grid_search = GridSearchCV(estimator = rf, param_grid = param_grid, \n",
    "                          cv = 3, n_jobs = -1, verbose = 2)\n",
    "\n",
    "# fit the grid search to the data\n",
    "grid_search.fit(x_train, y_train)\n",
    "grid_search.best_params_"
   ]
  },
  {
   "cell_type": "code",
   "execution_count": null,
   "metadata": {},
   "outputs": [
    {
     "name": "stdout",
     "output_type": "stream",
     "text": [
      "Model Performance\n",
      "Average Error: 0.4243 degrees.\n",
      "Accuracy = 93.83%.\n"
     ]
    }
   ],
   "source": [
    "best_grid = grid_search.best_estimator_\n",
    "grid_accuracy = evaluate(best_grid, x_test, y_test)"
   ]
  },
  {
   "cell_type": "markdown",
   "metadata": {},
   "source": [
    "# Analyze the Results"
   ]
  },
  {
   "cell_type": "code",
   "execution_count": 9,
   "metadata": {},
   "outputs": [],
   "source": [
    "from sklearn.metrics import mean_squared_error\n",
    "\n",
    "# multidimensional RMSE calculation\n",
    "def MDRMSE(predy, testy): # multi-dimensional RMSE\n",
    "    # rows are samples\n",
    "    # columns are genes\n",
    "    # iterate through each sample and take gene distribution calculate RMSE and add to list\n",
    "\n",
    "    # should be iterating through every predicted y value instead, fixed it\n",
    "    x, y = predy.shape\n",
    "    allRMSE = []\n",
    "    \n",
    "    for col in range(y):\n",
    "        pred = predy.iloc[:, col]\n",
    "        test = testy.iloc[:, col]\n",
    "        rmse = mean_squared_error(test, pred)\n",
    "        allRMSE.append(rmse)\n",
    "    \n",
    "    # Calculate sum of list and divide by number of items\n",
    "    averageRMSE = sum(allRMSE)/len(allRMSE)\n",
    "    \n",
    "    # return the aggregated RMSE\n",
    "    return averageRMSE"
   ]
  },
  {
   "cell_type": "code",
   "execution_count": 11,
   "metadata": {},
   "outputs": [],
   "source": [
    "# RMSE module provided by sklearn -- source: https://stackoverflow.com/a/60507671/15073477\n",
    "from sklearn.metrics import mean_squared_error\n",
    "\n",
    "def SKLEARNRMSE(y_pred, y_test):\n",
    "    return mean_squared_error(y_test, y_pred, squared=False)"
   ]
  },
  {
   "cell_type": "code",
   "execution_count": 12,
   "metadata": {},
   "outputs": [],
   "source": [
    "#Percent Difference Error\n",
    "\n",
    "def PDE(y_pred, y_test):\n",
    "    averagePercentDifference = 0\n",
    "    x, y = y_pred.shape\n",
    "    for row in range(x):\n",
    "        for col in range(y):\n",
    "            # calculate the percent difference for the value\n",
    "            averagePercentDifference += abs(y_pred[row][col] - y_test[row][col])/y_test[row][col]\n",
    "    averagePercentDifference /= (x*y)\n",
    "    return averagePercentDifference*100"
   ]
  },
  {
   "cell_type": "code",
   "execution_count": 13,
   "metadata": {},
   "outputs": [],
   "source": [
    "from sklearn.metrics import r2_score\n",
    "\n",
    "# more info about multioutput parameter: https://scikit-learn.org/stable/modules/generated/sklearn.metrics.r2_score.html\n",
    "\n",
    "# R^2 function\n",
    "def R2_SCORE(y_pred, y_test, modelType):\n",
    "    if (modelType == 'FOREST'): # source: https://stats.stackexchange.com/questions/7357/manually-calculated-r2-doesnt-match-up-with-randomforest-r2-for-testing?noredirect=1&lq=1\n",
    "        return r2_score(y_test, y_pred, multioutput='variance_weighted')\n",
    "    elif (modelType == 'PLS'): # source: https://www.ncl.ac.uk/webtemplate/ask-assets/external/maths-resources/statistics/regression-and-correlation/coefficient-of-determination-r-squared.html#:~:text=Solution,into%20the%20regression%20line%20equation.\n",
    "        return r2_score(y_test, y_pred)\n",
    "    else:\n",
    "        print(\"The only values accepted are \\'FOREST\\' and \\'PLS\\'.\")\n",
    "        return #can I not add a return here?\n"
   ]
  },
  {
   "cell_type": "code",
   "execution_count": 14,
   "metadata": {},
   "outputs": [
    {
     "name": "stdout",
     "output_type": "stream",
     "text": [
      "Predicted values are all from initial \"Forest\" model\n",
      "Root Means Squared Error: 0.2993102508463322\n",
      "Percent Difference Error: 5.469987582069285\n",
      "R2 SCORE - as a forest: 0.5803029081149491\n",
      "R2 SCORE - as a PLS: 0.52458382606413\n"
     ]
    }
   ],
   "source": [
    "RMSerror = MDRMSE(pd.DataFrame(y_pred), y_test)\n",
    "percentError = PDE(y_pred, y_test.to_numpy())\n",
    "R2_1 = R2_SCORE(y_pred, y_test, 'FOREST')\n",
    "R2_2 = R2_SCORE(y_pred, y_test, 'PLS')\n",
    "\n",
    "print(\"Predicted values are all from initial \\\"Forest\\\" model\")\n",
    "print(\"Root Means Squared Error: \", end=\"\")\n",
    "print(RMSerror)\n",
    "print(\"Percent Difference Error: \", end=\"\")\n",
    "print(percentError)\n",
    "print(\"R2 SCORE - as a forest: \", end=\"\")\n",
    "print(R2_1)\n",
    "print(\"R2 SCORE - as a PLS: \", end=\"\")\n",
    "print(R2_2)"
   ]
  },
  {
   "cell_type": "markdown",
   "metadata": {},
   "source": [
    "# Create Residual Plots to show Performance of Forest is Working"
   ]
  },
  {
   "cell_type": "code",
   "execution_count": 15,
   "metadata": {},
   "outputs": [
    {
     "data": {
      "text/plain": [
       "<Figure size 432x288 with 0 Axes>"
      ]
     },
     "metadata": {},
     "output_type": "display_data"
    },
    {
     "data": {
      "image/png": "[encoded data removed]",
      "text/plain": [
       "<Figure size 1800x1800 with 20 Axes>"
      ]
     },
     "metadata": {
      "needs_background": "light"
     },
     "output_type": "display_data"
    }
   ],
   "source": [
    "import numpy as np\n",
    "import matplotlib.pyplot as plt\n",
    "\n",
    "def StackedResidualPlot(y_pred, y_test):\n",
    "    # conert to np array with try/except\n",
    "    ny_test = y_test.to_numpy() #what's with the try/except catch method used for?\n",
    "\n",
    "    # calculate the residuals by column (variable)\n",
    "    residual = y_pred - ny_test\n",
    "    # predicted y on x axis and residual on y axis\n",
    "    # go iteratively over row by row -- AKA sample by sample\n",
    "\n",
    "    numRows = 5\n",
    "    numCols = 4\n",
    "\n",
    "    f = plt.figure()\n",
    "    f, axes = plt.subplots(nrows = numRows, ncols = numCols, sharex = True, sharey = True, figsize=(25, 25))\n",
    "\n",
    "    # axis and title\n",
    "    f.suptitle('Residual Plots', fontsize=42)\n",
    "    f.supxlabel('Predicted Values', fontsize=38) # reference: https://stackoverflow.com/a/65135433/15073477\n",
    "    f.supylabel('Residual Values', fontsize=38)\n",
    "\n",
    "    for row in range(numRows):\n",
    "        for col in range(numCols):\n",
    "            axes[row][col].scatter(y_pred[row+col], residual[row+col], marker = \"o\") #c = getRand(100)\n",
    "            # create a horizontal line!!! - source: https://pythonguides.com/matplotlib-best-fit-line/\n",
    "            theta = np.polyfit(y_pred[row+col], residual[row+col], 1) # 1 represents the degree\n",
    "            y_line = theta[1] + theta[0] * y_pred[row+col] # it said theta[0] * X... not sure what X represents in my code\n",
    "            axes[row][col].plot(y_pred[row+col], y_line, 'r')\n",
    "\n",
    "    # add separate colorbar axes\n",
    "    # cbar_ax = f.add_axes([0.85, 0.15, 0.05, 0.7])\n",
    "    # f.colorbar(axes[0][0], cax=cbar_ax)\n",
    "\n",
    "    plt.show()\n",
    "\n",
    "StackedResidualPlot(y_pred, y_test)"
   ]
  },
  {
   "cell_type": "markdown",
   "metadata": {},
   "source": [
    "# Create Partial Least Squares Regression"
   ]
  },
  {
   "cell_type": "code",
   "execution_count": 16,
   "metadata": {},
   "outputs": [],
   "source": [
    "# Another tutorial with cross validation: https://www.statology.org/partial-least-squares-in-python/\n",
    "\n",
    "# ml imports\n",
    "import matplotlib.pyplot as plt\n",
    "from sklearn.preprocessing import scale \n",
    "from sklearn import model_selection\n",
    "from sklearn.model_selection import RepeatedKFold\n",
    "from sklearn.model_selection import train_test_split\n",
    "\n",
    "from sklearn.cross_decomposition import PLSRegression\n",
    "from sklearn.model_selection import cross_val_predict\n",
    "from sklearn.metrics import mean_squared_error, r2_score"
   ]
  },
  {
   "cell_type": "code",
   "execution_count": 17,
   "metadata": {},
   "outputs": [
    {
     "data": {
      "text/plain": [
       "{'copy': True,\n",
       " 'max_iter': 500,\n",
       " 'n_components': 15,\n",
       " 'scale': True,\n",
       " 'tol': 1e-06}"
      ]
     },
     "execution_count": 17,
     "metadata": {},
     "output_type": "execute_result"
    }
   ],
   "source": [
    "# Source/documentation: https://scikit-learn.org/stable/modules/generated/sklearn.cross_decomposition.PLSRegression.html\n",
    "# Kinda useless now that I'm thinking about it since I'm just randomly guessing the number of components\n",
    "\n",
    "from sklearn.cross_decomposition import PLSRegression\n",
    "\n",
    "pls2 = PLSRegression(n_components=15)\n",
    "pls2.fit(x_train, y_train)\n",
    "\n",
    "pls2_y_pred = pls2.predict(x_test)\n",
    "\n",
    "pls2.get_params()"
   ]
  },
  {
   "cell_type": "markdown",
   "metadata": {},
   "source": [
    "# Optimize Partial Least Squares - Source: https://nirpyresearch.com/partial-least-squares-regression-python/"
   ]
  },
  {
   "cell_type": "code",
   "execution_count": 18,
   "metadata": {},
   "outputs": [],
   "source": [
    "def optimise_pls_cv(X, y, n_comp):\n",
    "    # Define PLS object\n",
    "    pls = PLSRegression(n_components=n_comp) #should use nipals algorithm\n",
    "\n",
    "    # Cross-validation\n",
    "    y_cv = cross_val_predict(pls, X, y, cv=10)\n",
    "\n",
    "    # Calculate scores\n",
    "    r2 = r2_score(y, y_cv)\n",
    "    mse = mean_squared_error(y, y_cv)\n",
    "    \n",
    "    return (y_cv, r2, mse)\n"
   ]
  },
  {
   "cell_type": "code",
   "execution_count": 19,
   "metadata": {},
   "outputs": [
    {
     "name": "stderr",
     "output_type": "stream",
     "text": [
      "c:\\Users\\Amy\\anaconda3\\lib\\site-packages\\sklearn\\cross_decomposition\\_pls.py:97: ConvergenceWarning: Maximum number of iterations reached\n",
      "  warnings.warn('Maximum number of iterations reached',\n",
      "c:\\Users\\Amy\\anaconda3\\lib\\site-packages\\sklearn\\cross_decomposition\\_pls.py:97: ConvergenceWarning: Maximum number of iterations reached\n",
      "  warnings.warn('Maximum number of iterations reached',\n"
     ]
    }
   ],
   "source": [
    "# test with 30 components\n",
    "r2s = []\n",
    "mses = []\n",
    "x, y = y_train.shape\n",
    "xticks = np.arange(1, 30)\n",
    "for n_comp in xticks:\n",
    "    y_cv, r2, mse = optimise_pls_cv(x_train, y_train, n_comp)\n",
    "    r2s.append(r2)\n",
    "    mses.append(mse)"
   ]
  },
  {
   "cell_type": "code",
   "execution_count": 20,
   "metadata": {},
   "outputs": [],
   "source": [
    "# Plot the mses\n",
    "def plot_metrics(vals, ylabel, objective):\n",
    "    with plt.style.context('ggplot'):\n",
    "        plt.plot(xticks, np.array(vals), '-v', color='blue', mfc='blue')\n",
    "        if objective=='min':\n",
    "            idx = np.argmin(vals)\n",
    "        else:\n",
    "            idx = np.argmax(vals)\n",
    "        plt.plot(xticks[idx], np.array(vals)[idx], 'P', ms=10, mfc='red')\n",
    "\n",
    "        plt.xlabel('Number of PLS components')\n",
    "        plt.xticks = xticks\n",
    "        plt.ylabel(ylabel)\n",
    "        plt.title('PLS')\n",
    "\n",
    "    plt.show()"
   ]
  },
  {
   "cell_type": "code",
   "execution_count": 21,
   "metadata": {},
   "outputs": [
    {
     "data": {
      "image/png": "[encoded data removed]",
      "text/plain": [
       "<Figure size 432x288 with 1 Axes>"
      ]
     },
     "metadata": {},
     "output_type": "display_data"
    },
    {
     "data": {
      "image/png": "[encoded data removed]",
      "text/plain": [
       "<Figure size 432x288 with 1 Axes>"
      ]
     },
     "metadata": {},
     "output_type": "display_data"
    }
   ],
   "source": [
    "plot_metrics(mses, 'MSE', 'min')\n",
    "plot_metrics(r2s, 'R2', 'max')"
   ]
  },
  {
   "cell_type": "code",
   "execution_count": 28,
   "metadata": {},
   "outputs": [
    {
     "name": "stdout",
     "output_type": "stream",
     "text": [
      "0.7274063272928186\n",
      "0.16356232938581045\n"
     ]
    }
   ],
   "source": [
    "x_data = x_train.to_numpy().tolist() + x_test.to_numpy().tolist()\n",
    "y_data = y_train.to_numpy().tolist() + y_test.to_numpy().tolist()\n",
    "y_cv, r2, mse = optimise_pls_cv(x_data, y_data, 21) #21 depends on what the points of the previous code block show. Just grabbing the optimal values from the graph that it determined\n",
    "print(r2)\n",
    "print(mse)"
   ]
  },
  {
   "cell_type": "markdown",
   "metadata": {},
   "source": [
    "# Using results, create optimal PLS regression"
   ]
  },
  {
   "cell_type": "code",
   "execution_count": 29,
   "metadata": {},
   "outputs": [
    {
     "name": "stdout",
     "output_type": "stream",
     "text": [
      "Number of components used:  21\n",
      "R2 calib: 0.812\n",
      "R2 CV: 0.700\n",
      "MSE calib: 0.174\n",
      "MSE CV: 0.174\n"
     ]
    }
   ],
   "source": [
    "msemin = np.argmin(mses) #finds the minimum number of the MSE -- NOTE: THERE'S A DIFFERENCE BETWEEN mse AND mses\n",
    "\n",
    "print(\"Number of components used: \", msemin+1)\n",
    "pls_optimal = PLSRegression(n_components=msemin+1)\n",
    "\n",
    "# fit entire dataset\n",
    "pls_optimal.fit(x_train, y_train)\n",
    "y_c = pls_optimal.predict(x_train)\n",
    "\n",
    "# cross validation\n",
    "y_cv_optimal = cross_val_predict(pls_optimal, x_train, y_train, cv = 10)\n",
    "\n",
    "# calculate scores for calibration and cross-validation\n",
    "score_c = r2_score(y_train, y_c)\n",
    "score_cv_optimal = r2_score(y_train, y_cv_optimal)\n",
    "\n",
    "# Calculate mean squared error for calibration and cross validation\n",
    "mse_c = mean_squared_error(y_train, y_cv_optimal)\n",
    "mse_cv = mean_squared_error(y_train, y_cv_optimal)\n",
    "\n",
    "print('R2 calib: %5.3f'  % score_c)\n",
    "print('R2 CV: %5.3f'  % score_cv_optimal)\n",
    "print('MSE calib: %5.3f' % mse_c)\n",
    "print('MSE CV: %5.3f' % mse_cv)"
   ]
  },
  {
   "cell_type": "code",
   "execution_count": 31,
   "metadata": {},
   "outputs": [
    {
     "data": {
      "image/png": "[encoded data removed]",
      "text/plain": [
       "<Figure size 648x360 with 1 Axes>"
      ]
     },
     "metadata": {},
     "output_type": "display_data"
    }
   ],
   "source": [
    "# Plot regression and figures of merit\n",
    "rangey = y_train.max() - y_train.min()\n",
    "rangex = np.amax(y_c) - np.amin(y_c)\n",
    "\n",
    "# Fit a line to the CV vs response\n",
    "z = np.polyfit(y_train.iloc[:, 0].to_numpy(), y_c[:, 0], 1)\n",
    "with plt.style.context(('ggplot')):\n",
    "    fig, ax = plt.subplots(figsize=(9, 5))\n",
    "    ax.scatter(y_c, y_train, c='red', edgecolors='k')\n",
    "    #Plot the best fit line\n",
    "    ax.plot(np.polyval(z,y_train), y_train, c='blue', linewidth=1)\n",
    "    #Plot the ideal 1:1 line\n",
    "    ax.plot(y_train, y_train, color='green', linewidth=1)\n",
    "    plt.title('$R^{2}$ (CV): '+str(score_cv_optimal))\n",
    "    plt.xlabel('Predicted Value')\n",
    "    plt.ylabel('Measured Value')\n",
    "\n",
    "    plt.show()"
   ]
  },
  {
   "cell_type": "markdown",
   "metadata": {},
   "source": [
    "# Evaluate Partial Least Squares"
   ]
  },
  {
   "cell_type": "code",
   "execution_count": 32,
   "metadata": {},
   "outputs": [
    {
     "name": "stdout",
     "output_type": "stream",
     "text": [
      "Predicted values are all from initial \"PLS\" Regression\n",
      "Root Means Squared Error: 0.1709222552285539\n",
      "Percent Difference Error: 4.272250869458874\n",
      "R2 SCORE - as a forest: 0.7603303820867531\n",
      "R2 SCORE - as a PLS: 0.7334754759727379\n",
      "Similar to R2 - Explained Variance: 0.7367439311548541\n"
     ]
    }
   ],
   "source": [
    "y_pred_optimal = pls_optimal.predict(x_test)\n",
    "\n",
    "RMSerror = MDRMSE(pd.DataFrame(y_pred_optimal), y_test)\n",
    "percentError = PDE(y_pred_optimal, y_test.to_numpy())\n",
    "R2_1 = R2_SCORE(y_pred_optimal, y_test, 'FOREST')\n",
    "R2_2 = R2_SCORE(y_pred_optimal, y_test, 'PLS')\n",
    "from sklearn.metrics import explained_variance_score\n",
    "EXPLAINED_VARIANCE = explained_variance_score(y_test, y_pred_optimal)\n",
    "\n",
    "print(\"Predicted values are all from initial \\\"PLS\\\" Regression\")\n",
    "print(\"Root Means Squared Error: \", end=\"\")\n",
    "print(RMSerror)\n",
    "print(\"Percent Difference Error: \", end=\"\")\n",
    "print(percentError)\n",
    "print(\"R2 SCORE - as a forest: \", end=\"\")\n",
    "print(R2_1)\n",
    "print(\"R2 SCORE - as a PLS: \", end=\"\")\n",
    "print(R2_2)\n",
    "print(\"Similar to R2 - Explained Variance: \", end=\"\")\n",
    "print(EXPLAINED_VARIANCE)"
   ]
  },
  {
   "cell_type": "code",
   "execution_count": 33,
   "metadata": {},
   "outputs": [
    {
     "name": "stdout",
     "output_type": "stream",
     "text": [
      "Predicted values are all from initial \"Forest\" model\n",
      "Root Means Squared Error: 0.2993102508463322\n",
      "Percent Difference Error: 5.469987582069285\n",
      "R2 SCORE - as a forest: 0.5803029081149491\n",
      "R2 SCORE - as a PLS: 0.52458382606413\n"
     ]
    }
   ],
   "source": [
    "# the results of the forest model are here:\n",
    "\n",
    "RMSerror = MDRMSE(pd.DataFrame(y_pred), y_test)\n",
    "percentError = PDE(y_pred, y_test.to_numpy())\n",
    "R2_1 = R2_SCORE(y_pred, y_test, 'FOREST')\n",
    "R2_2 = R2_SCORE(y_pred, y_test, 'PLS')\n",
    "\n",
    "print(\"Predicted values are all from initial \\\"Forest\\\" model\")\n",
    "print(\"Root Means Squared Error: \", end=\"\")\n",
    "print(RMSerror)\n",
    "print(\"Percent Difference Error: \", end=\"\")\n",
    "print(percentError)\n",
    "print(\"R2 SCORE - as a forest: \", end=\"\")\n",
    "print(R2_1)\n",
    "print(\"R2 SCORE - as a PLS: \", end=\"\")\n",
    "print(R2_2)"
   ]
  },
  {
   "cell_type": "code",
   "execution_count": 34,
   "metadata": {},
   "outputs": [
    {
     "name": "stdout",
     "output_type": "stream",
     "text": [
      "0.4021362188016008\n",
      "0.5184757687883491\n"
     ]
    }
   ],
   "source": [
    "# Evaluate RMSE given by the sklearn module\n",
    "plsRMSE = SKLEARNRMSE(pls2_y_pred.transpose(), np.array(y_test.T))\n",
    "forestRMSE = SKLEARNRMSE(y_pred.transpose(), np.array(y_test.T))\n",
    "\n",
    "# print(\"PLS: \" + plsRMSE)\n",
    "# print(\"Forest: \" + forestRMSE)\n",
    "\n",
    "print(plsRMSE)\n",
    "print(forestRMSE)"
   ]
  },
  {
   "cell_type": "markdown",
   "metadata": {},
   "source": [
    "# Modifying the completeDataset.xlsx with Disease Factor"
   ]
  },
  {
   "cell_type": "code",
   "execution_count": 55,
   "metadata": {},
   "outputs": [],
   "source": [
    "# recreate the data\n",
    "import random\n",
    "import pandas as pd\n",
    "\n",
    "# convert the completeDataset.xlsx into a pandas dataframe because I don't want to redo the previous steps over and over again every time I reopen the notebook\n",
    "selectDf = pd.read_excel(\"completeDatasetWithFactorV2.xlsx\", index_col=0)\n",
    "\n",
    "randNum = random.randrange(500)\n",
    "# create 70/30 split of training and testing datasets\n",
    "shuffledData = selectDf.sample(frac=1, random_state=42)\n",
    "\n",
    "shuffledData.head()\n",
    "x, y = shuffledData.shape\n",
    "splitThreshold = round(x*.7)\n",
    "\n",
    "TrainData = shuffledData.iloc[0:splitThreshold, :]\n",
    "TestData = shuffledData.iloc[splitThreshold:, :]\n",
    "\n",
    "# create input and output set (50/50) for now, but may change later\n",
    "# randomize columns\n",
    "tempShuffleDf = TrainData.T\n",
    "tempShuffleDf = tempShuffleDf.sample(frac=1, random_state=randNum)\n",
    "TrainData = tempShuffleDf.T\n",
    "tempShuffleDf = TestData.T\n",
    "tempShuffleDf = tempShuffleDf.sample(frac=1, random_state=randNum)\n",
    "TestData = tempShuffleDf.T\n",
    "\n",
    "splitIndex = 80 #first {splitIndex} will be used as input variables\n",
    "\n",
    "# split the data\n",
    "x_train = TrainData.iloc[:, 0:splitIndex]\n",
    "y_train = TrainData.iloc[:, splitIndex:]\n",
    "\n",
    "x_test = TestData.iloc[:, 0:splitIndex]\n",
    "y_test = TestData.iloc[:, splitIndex:]"
   ]
  },
  {
   "cell_type": "code",
   "execution_count": 56,
   "metadata": {},
   "outputs": [
    {
     "data": {
      "text/plain": [
       "{'copy': True,\n",
       " 'max_iter': 500,\n",
       " 'n_components': 10,\n",
       " 'scale': True,\n",
       " 'tol': 1e-06}"
      ]
     },
     "execution_count": 56,
     "metadata": {},
     "output_type": "execute_result"
    }
   ],
   "source": [
    "from sklearn.cross_decomposition import PLSRegression\n",
    "\n",
    "pls2 = PLSRegression(n_components=10)\n",
    "pls2.fit(x_train, y_train)\n",
    "\n",
    "pls2_y_pred_v2 = pls2.predict(x_test)\n",
    "\n",
    "pls2.get_params()"
   ]
  },
  {
   "cell_type": "code",
   "execution_count": 4,
   "metadata": {},
   "outputs": [
    {
     "name": "stdout",
     "output_type": "stream",
     "text": [
      "-0.08617344411958991\n",
      "-0.09984722715573517\n",
      "0.02633538391556032\n",
      "-0.10912236758659974\n",
      "-0.05926506279995324\n",
      "0.11613991867675003\n",
      "0.01095903444617476\n",
      "-0.12726947284270637\n",
      "0.16470104553538828\n",
      "-0.16261730073878564\n",
      "0.1586725441273285\n",
      "-0.12285734294606526\n",
      "0.08264892492981138\n",
      "-3.175554002593454e-05\n",
      "-0.12500550281422118\n",
      "0.19979887333002438\n",
      "-0.10437144771008997\n",
      "-0.06622764308730782\n",
      "0.1374741325701819\n",
      "0.17061879411522504\n",
      "-0.09651499136198802\n",
      "-0.030808045080591998\n",
      "-0.08071317330275886\n",
      "-0.040317418870885066\n",
      "-0.09510745486890683\n",
      "-0.051900324404509056\n",
      "-0.005984150891500086\n",
      "-0.1282099905775882\n",
      "0.17696336102151275\n",
      "0.16045190968119916\n",
      "-0.11720923391636134\n",
      "-0.00017738078511832022\n",
      "-0.016006834384623757\n",
      "0.04160284024631571\n",
      "-0.11772807606878166\n",
      "0.06289193031440354\n",
      "0.19712761108300747\n",
      "0.039161589896520806\n",
      "0.008719745058803836\n",
      "-0.06781713488631326\n",
      "0.1604025244603159\n",
      "0.053492272841467674\n",
      "-0.13847928107656\n",
      "0.09050251114347665\n",
      "-0.08901523878975813\n",
      "-0.06313526699135444\n",
      "-0.13753955842124868\n",
      "-0.061007350408580845\n",
      "-0.1034074114128051\n",
      "0.18073125897030326\n",
      "0.13976678596323866\n",
      "-0.09028542358453844\n",
      "0.14891228997649228\n",
      "-0.13042957587649234\n",
      "-0.06093063762041839\n",
      "-0.024523042208164134\n",
      "-0.06835659907106141\n",
      "-0.11576910428025837\n",
      "-0.09729237661884677\n",
      "-0.11928461584836277\n",
      "-0.08252207810972502\n",
      "-0.14005686702282616\n",
      "0.1675822622430045\n",
      "0.08452773386267151\n",
      "-0.13785740748846065\n",
      "-0.134619922109257\n",
      "0.1860254338606237\n",
      "-0.09933283251852994\n",
      "0.10659132649934241\n",
      "-0.10968277324657322\n",
      "-0.07083373310452405\n",
      "-0.002298092138722243\n",
      "-0.0001533975724937929\n",
      "0.14703952750205723\n",
      "0.17865855282619283\n",
      "0.12221364876382217\n",
      "0.1728482766216402\n",
      "-0.07355118941440068\n",
      "-0.0806836140487676\n",
      "-0.07829389067970902\n"
     ]
    }
   ],
   "source": [
    "for row in pls2.x_weights_:\n",
    "    print(row[0])"
   ]
  },
  {
   "cell_type": "code",
   "execution_count": 57,
   "metadata": {},
   "outputs": [
    {
     "name": "stdout",
     "output_type": "stream",
     "text": [
      "Predicted values are all from initial \"PLS\" Regression\n",
      "Root Means Squared Error: 0.18036528417244696\n",
      "Percent Difference Error: 3.5210137887594875\n",
      "R2 SCORE - as a forest: 0.750075009926466\n",
      "R2 SCORE - as a PLS: 0.7098572707872937\n",
      "Similar to R2 - Explained Variance: 0.7163615381792144\n"
     ]
    }
   ],
   "source": [
    "import numpy as np\n",
    "\n",
    "RMSerror = MDRMSE(pd.DataFrame(pls2_y_pred_v2), y_test)\n",
    "percentError = PDE(pls2_y_pred_v2, y_test.to_numpy())\n",
    "R2_1 = R2_SCORE(pls2_y_pred_v2, y_test, 'FOREST')\n",
    "R2_2 = R2_SCORE(pls2_y_pred_v2, y_test, 'PLS')\n",
    "from sklearn.metrics import explained_variance_score\n",
    "EXPLAINED_VARIANCE = explained_variance_score(y_test, pls2_y_pred_v2)\n",
    "\n",
    "print(\"Predicted values are all from initial \\\"PLS\\\" Regression\")\n",
    "print(\"Root Means Squared Error: \", end=\"\")\n",
    "print(RMSerror)\n",
    "print(\"Percent Difference Error: \", end=\"\")\n",
    "print(percentError)\n",
    "print(\"R2 SCORE - as a forest: \", end=\"\")\n",
    "print(R2_1)\n",
    "print(\"R2 SCORE - as a PLS: \", end=\"\")\n",
    "print(R2_2)\n",
    "print(\"Similar to R2 - Explained Variance: \", end=\"\")\n",
    "print(EXPLAINED_VARIANCE)\n",
    "\n",
    "# dataset without the disease factor\n",
    "# Predicted values are all from initial \"PLS\" Regression\n",
    "# Root Means Squared Error: 0.16531720606017014\n",
    "# Percent Difference Error: 4.3879568203042165\n",
    "# R2 SCORE - as a forest: 0.730736540577214\n",
    "# R2 SCORE - as a PLS: 0.7110617544937284\n",
    "# Similar to R2 - Explained Variance: 0.7162714275732749\n",
    "\n",
    "# dataset with disease factor\n",
    "# Predicted values are all from initial \"PLS\" Regression\n",
    "# Root Means Squared Error: 0.15039945445145553\n",
    "# Percent Difference Error: 3.7430838717752604\n",
    "# R2 SCORE - as a forest: 0.7831257301605096\n",
    "# R2 SCORE - as a PLS: 0.7713394506173104\n",
    "# Similar to R2 - Explained Variance: 0.7735207440625719\n",
    "\n",
    "# dataset with disease factor - just recently incorporated 6/4/2022\n",
    "# Predicted values are all from initial \"PLS\" Regression\n",
    "# Root Means Squared Error: 0.1996677718309814\n",
    "# Percent Difference Error: 7.97632945228717\n",
    "# R2 SCORE - as a forest: 0.7323897190776975\n",
    "# R2 SCORE - as a PLS: 0.7220848095960279\n",
    "# Similar to R2 - Explained Variance: 0.72708123797703\n",
    "\n",
    "# another dataset with disease factor incorporated\n",
    "# Predicted values are all from initial \"PLS\" Regression\n",
    "# Root Means Squared Error: 0.15529384215418301\n",
    "# Percent Difference Error: 3.752387421223123\n",
    "# R2 SCORE - as a forest: 0.6850002260497448\n",
    "# R2 SCORE - as a PLS: 0.6539923986119991\n",
    "# Similar to R2 - Explained Variance: 0.6589420856396692"
   ]
  },
  {
   "cell_type": "markdown",
   "metadata": {},
   "source": [
    "# Save the Model using Pickle"
   ]
  },
  {
   "cell_type": "code",
   "execution_count": 58,
   "metadata": {},
   "outputs": [
    {
     "name": "stdout",
     "output_type": "stream",
     "text": [
      "Predicted values are all from initial \"PLS\" Regression\n",
      "Root Means Squared Error: 0.18036528417244696\n",
      "Percent Difference Error: 3.5210137887594875\n",
      "R2 SCORE - as a forest: 0.750075009926466\n",
      "R2 SCORE - as a PLS: 0.7098572707872937\n",
      "Similar to R2 - Explained Variance: 0.7163615381792144\n"
     ]
    }
   ],
   "source": [
    "# using pickle -- recommended https://medium.datadriveninvestor.com/machine-learning-how-to-save-and-load-scikit-learn-models-d7b99bc32c27\n",
    "import pickle\n",
    "\n",
    "# saving the file\n",
    "filename = 'OPTIMAL_PLS_MODEL.sav'\n",
    "pickle.dump(pls2, open(filename, 'wb'))\n",
    "\n",
    "# loading the file\n",
    "load_lr_model = pickle.load(open(filename, 'rb'))\n",
    "y_load_predict = load_lr_model.predict(x_test)\n",
    "\n",
    "RMSerror = MDRMSE(pd.DataFrame(y_load_predict), y_test)\n",
    "percentError = PDE(y_load_predict, y_test.to_numpy())\n",
    "R2_1 = R2_SCORE(y_load_predict, y_test, 'FOREST')\n",
    "R2_2 = R2_SCORE(y_load_predict, y_test, 'PLS')\n",
    "from sklearn.metrics import explained_variance_score\n",
    "EXPLAINED_VARIANCE = explained_variance_score(y_test, y_load_predict)\n",
    "\n",
    "print(\"Predicted values are all from initial \\\"PLS\\\" Regression\")\n",
    "print(\"Root Means Squared Error: \", end=\"\")\n",
    "print(RMSerror)\n",
    "print(\"Percent Difference Error: \", end=\"\")\n",
    "print(percentError)\n",
    "print(\"R2 SCORE - as a forest: \", end=\"\")\n",
    "print(R2_1)\n",
    "print(\"R2 SCORE - as a PLS: \", end=\"\")\n",
    "print(R2_2)\n",
    "print(\"Similar to R2 - Explained Variance: \", end=\"\")\n",
    "print(EXPLAINED_VARIANCE)"
   ]
  }
 ],
 "metadata": {
  "interpreter": {
   "hash": "362fdda7da3efa61b889f6cffefb4889d609e1a921f385f43ea41e9845cf9c35"
  },
  "kernelspec": {
   "display_name": "Python 3.9.7 ('base')",
   "language": "python",
   "name": "python3"
  },
  "language_info": {
   "codemirror_mode": {
    "name": "ipython",
    "version": 3
   },
   "file_extension": ".py",
   "mimetype": "text/x-python",
   "name": "python",
   "nbconvert_exporter": "python",
   "pygments_lexer": "ipython3",
   "version": "3.9.7"
  },
  "orig_nbformat": 4
 },
 "nbformat": 4,
 "nbformat_minor": 2
}
